{
 "cells": [
  {
   "cell_type": "markdown",
   "id": "c3bd565c",
   "metadata": {},
   "source": [
    "# Bank Marketing Result Prediction \n",
    "\n",
    "This is a binary classification task to predict whether a customer will subscribe for a term deposit or not.\n",
    "\n",
    "* The CRISP-DM system was used in this exercise.\n",
    "\n",
    "1. Business Understanding - The objective of the exercise is to predict product uptake by customers (a term deposit or not) depending on factors presented.\n",
    "2. Data Understanding - The data provided is in a csv file containing direct marketing campaigns of thr bank customers. Exploratory analysis will be carried out in the notebook below\n",
    "3. Data Preparation - There are no null values in the dataset\n",
    "4. Modelling - 4 models will be evaluated for this classification task: logistic regression, random forest, k-nearest neighbors, decision tree. Training and test data was split 70:30.\n",
    "5. Evaluation - Each of the 4 models will be compared and evaluated\n",
    "6. Deployment - This was not within the scope of this exercise"
   ]
  },
  {
   "cell_type": "code",
   "execution_count": 1,
   "id": "d8aa5eda",
   "metadata": {},
   "outputs": [],
   "source": [
    "#import python libraries for data manipulation and visualization\n",
    "import pandas as pd\n",
    "import numpy as np\n",
    "\n",
    "#import other libraries for visualization\n",
    "import matplotlib.pyplot as plt\n",
    "import seaborn as sns\n",
    "\n",
    "import warnings\n",
    "warnings.filterwarnings(\"ignore\")"
   ]
  },
  {
   "cell_type": "markdown",
   "id": "d6f64705",
   "metadata": {},
   "source": [
    "# Data Inspection\n",
    "\n",
    "* Load the data set\n",
    "* Within a markdown cell, give a description of the dataset:\n",
    "    * what is the source of the data?\n",
    "    * how many rows and columns?\n",
    "    * does it have missing values?\n",
    "    * any other significant details"
   ]
  },
  {
   "cell_type": "code",
   "execution_count": 2,
   "id": "88acc8af",
   "metadata": {
    "scrolled": false
   },
   "outputs": [
    {
     "data": {
      "text/html": [
       "<div>\n",
       "<style scoped>\n",
       "    .dataframe tbody tr th:only-of-type {\n",
       "        vertical-align: middle;\n",
       "    }\n",
       "\n",
       "    .dataframe tbody tr th {\n",
       "        vertical-align: top;\n",
       "    }\n",
       "\n",
       "    .dataframe thead th {\n",
       "        text-align: right;\n",
       "    }\n",
       "</style>\n",
       "<table border=\"1\" class=\"dataframe\">\n",
       "  <thead>\n",
       "    <tr style=\"text-align: right;\">\n",
       "      <th></th>\n",
       "      <th>0</th>\n",
       "      <th>1</th>\n",
       "      <th>2</th>\n",
       "      <th>3</th>\n",
       "      <th>4</th>\n",
       "      <th>5</th>\n",
       "      <th>6</th>\n",
       "      <th>7</th>\n",
       "      <th>8</th>\n",
       "      <th>9</th>\n",
       "      <th>10</th>\n",
       "      <th>11</th>\n",
       "      <th>12</th>\n",
       "      <th>13</th>\n",
       "      <th>14</th>\n",
       "      <th>15</th>\n",
       "      <th>16</th>\n",
       "    </tr>\n",
       "  </thead>\n",
       "  <tbody>\n",
       "    <tr>\n",
       "      <th>0</th>\n",
       "      <td>age</td>\n",
       "      <td>job</td>\n",
       "      <td>marital</td>\n",
       "      <td>education</td>\n",
       "      <td>default</td>\n",
       "      <td>balance</td>\n",
       "      <td>housing</td>\n",
       "      <td>loan</td>\n",
       "      <td>contact</td>\n",
       "      <td>day</td>\n",
       "      <td>month</td>\n",
       "      <td>duration</td>\n",
       "      <td>campaign</td>\n",
       "      <td>pdays</td>\n",
       "      <td>previous</td>\n",
       "      <td>poutcome</td>\n",
       "      <td>y</td>\n",
       "    </tr>\n",
       "    <tr>\n",
       "      <th>1</th>\n",
       "      <td>30</td>\n",
       "      <td>unemployed</td>\n",
       "      <td>married</td>\n",
       "      <td>primary</td>\n",
       "      <td>no</td>\n",
       "      <td>1787</td>\n",
       "      <td>no</td>\n",
       "      <td>no</td>\n",
       "      <td>cellular</td>\n",
       "      <td>19</td>\n",
       "      <td>oct</td>\n",
       "      <td>79</td>\n",
       "      <td>1</td>\n",
       "      <td>-1</td>\n",
       "      <td>0</td>\n",
       "      <td>unknown</td>\n",
       "      <td>no</td>\n",
       "    </tr>\n",
       "    <tr>\n",
       "      <th>2</th>\n",
       "      <td>33</td>\n",
       "      <td>services</td>\n",
       "      <td>married</td>\n",
       "      <td>secondary</td>\n",
       "      <td>no</td>\n",
       "      <td>4789</td>\n",
       "      <td>yes</td>\n",
       "      <td>yes</td>\n",
       "      <td>cellular</td>\n",
       "      <td>11</td>\n",
       "      <td>may</td>\n",
       "      <td>220</td>\n",
       "      <td>1</td>\n",
       "      <td>339</td>\n",
       "      <td>4</td>\n",
       "      <td>failure</td>\n",
       "      <td>no</td>\n",
       "    </tr>\n",
       "    <tr>\n",
       "      <th>3</th>\n",
       "      <td>35</td>\n",
       "      <td>management</td>\n",
       "      <td>single</td>\n",
       "      <td>tertiary</td>\n",
       "      <td>no</td>\n",
       "      <td>1350</td>\n",
       "      <td>yes</td>\n",
       "      <td>no</td>\n",
       "      <td>cellular</td>\n",
       "      <td>16</td>\n",
       "      <td>apr</td>\n",
       "      <td>185</td>\n",
       "      <td>1</td>\n",
       "      <td>330</td>\n",
       "      <td>1</td>\n",
       "      <td>failure</td>\n",
       "      <td>no</td>\n",
       "    </tr>\n",
       "    <tr>\n",
       "      <th>4</th>\n",
       "      <td>30</td>\n",
       "      <td>management</td>\n",
       "      <td>married</td>\n",
       "      <td>tertiary</td>\n",
       "      <td>no</td>\n",
       "      <td>1476</td>\n",
       "      <td>yes</td>\n",
       "      <td>yes</td>\n",
       "      <td>unknown</td>\n",
       "      <td>3</td>\n",
       "      <td>jun</td>\n",
       "      <td>199</td>\n",
       "      <td>4</td>\n",
       "      <td>-1</td>\n",
       "      <td>0</td>\n",
       "      <td>unknown</td>\n",
       "      <td>no</td>\n",
       "    </tr>\n",
       "  </tbody>\n",
       "</table>\n",
       "</div>"
      ],
      "text/plain": [
       "    0           1        2          3        4        5        6     7   \\\n",
       "0  age         job  marital  education  default  balance  housing  loan   \n",
       "1   30  unemployed  married    primary       no     1787       no    no   \n",
       "2   33    services  married  secondary       no     4789      yes   yes   \n",
       "3   35  management   single   tertiary       no     1350      yes    no   \n",
       "4   30  management  married   tertiary       no     1476      yes   yes   \n",
       "\n",
       "         8    9      10        11        12     13        14        15  16  \n",
       "0   contact  day  month  duration  campaign  pdays  previous  poutcome   y  \n",
       "1  cellular   19    oct        79         1     -1         0   unknown  no  \n",
       "2  cellular   11    may       220         1    339         4   failure  no  \n",
       "3  cellular   16    apr       185         1    330         1   failure  no  \n",
       "4   unknown    3    jun       199         4     -1         0   unknown  no  "
      ]
     },
     "execution_count": 2,
     "metadata": {},
     "output_type": "execute_result"
    }
   ],
   "source": [
    "# load the data\n",
    "#the semi-colon is specified in separator because the data file uses semi-colons for delimiters\n",
    "data = pd.read_csv('bank.csv',sep=';', header=None)\n",
    "data.head()"
   ]
  },
  {
   "cell_type": "code",
   "execution_count": 3,
   "id": "c6dbf514",
   "metadata": {
    "scrolled": true
   },
   "outputs": [
    {
     "data": {
      "text/html": [
       "<div>\n",
       "<style scoped>\n",
       "    .dataframe tbody tr th:only-of-type {\n",
       "        vertical-align: middle;\n",
       "    }\n",
       "\n",
       "    .dataframe tbody tr th {\n",
       "        vertical-align: top;\n",
       "    }\n",
       "\n",
       "    .dataframe thead th {\n",
       "        text-align: right;\n",
       "    }\n",
       "</style>\n",
       "<table border=\"1\" class=\"dataframe\">\n",
       "  <thead>\n",
       "    <tr style=\"text-align: right;\">\n",
       "      <th></th>\n",
       "      <th>0</th>\n",
       "      <th>1</th>\n",
       "      <th>2</th>\n",
       "      <th>3</th>\n",
       "      <th>4</th>\n",
       "      <th>5</th>\n",
       "      <th>6</th>\n",
       "      <th>7</th>\n",
       "      <th>8</th>\n",
       "      <th>9</th>\n",
       "      <th>10</th>\n",
       "      <th>11</th>\n",
       "      <th>12</th>\n",
       "      <th>13</th>\n",
       "      <th>14</th>\n",
       "      <th>15</th>\n",
       "      <th>16</th>\n",
       "    </tr>\n",
       "  </thead>\n",
       "  <tbody>\n",
       "    <tr>\n",
       "      <th>4517</th>\n",
       "      <td>33</td>\n",
       "      <td>services</td>\n",
       "      <td>married</td>\n",
       "      <td>secondary</td>\n",
       "      <td>no</td>\n",
       "      <td>-333</td>\n",
       "      <td>yes</td>\n",
       "      <td>no</td>\n",
       "      <td>cellular</td>\n",
       "      <td>30</td>\n",
       "      <td>jul</td>\n",
       "      <td>329</td>\n",
       "      <td>5</td>\n",
       "      <td>-1</td>\n",
       "      <td>0</td>\n",
       "      <td>unknown</td>\n",
       "      <td>no</td>\n",
       "    </tr>\n",
       "    <tr>\n",
       "      <th>4518</th>\n",
       "      <td>57</td>\n",
       "      <td>self-employed</td>\n",
       "      <td>married</td>\n",
       "      <td>tertiary</td>\n",
       "      <td>yes</td>\n",
       "      <td>-3313</td>\n",
       "      <td>yes</td>\n",
       "      <td>yes</td>\n",
       "      <td>unknown</td>\n",
       "      <td>9</td>\n",
       "      <td>may</td>\n",
       "      <td>153</td>\n",
       "      <td>1</td>\n",
       "      <td>-1</td>\n",
       "      <td>0</td>\n",
       "      <td>unknown</td>\n",
       "      <td>no</td>\n",
       "    </tr>\n",
       "    <tr>\n",
       "      <th>4519</th>\n",
       "      <td>57</td>\n",
       "      <td>technician</td>\n",
       "      <td>married</td>\n",
       "      <td>secondary</td>\n",
       "      <td>no</td>\n",
       "      <td>295</td>\n",
       "      <td>no</td>\n",
       "      <td>no</td>\n",
       "      <td>cellular</td>\n",
       "      <td>19</td>\n",
       "      <td>aug</td>\n",
       "      <td>151</td>\n",
       "      <td>11</td>\n",
       "      <td>-1</td>\n",
       "      <td>0</td>\n",
       "      <td>unknown</td>\n",
       "      <td>no</td>\n",
       "    </tr>\n",
       "    <tr>\n",
       "      <th>4520</th>\n",
       "      <td>28</td>\n",
       "      <td>blue-collar</td>\n",
       "      <td>married</td>\n",
       "      <td>secondary</td>\n",
       "      <td>no</td>\n",
       "      <td>1137</td>\n",
       "      <td>no</td>\n",
       "      <td>no</td>\n",
       "      <td>cellular</td>\n",
       "      <td>6</td>\n",
       "      <td>feb</td>\n",
       "      <td>129</td>\n",
       "      <td>4</td>\n",
       "      <td>211</td>\n",
       "      <td>3</td>\n",
       "      <td>other</td>\n",
       "      <td>no</td>\n",
       "    </tr>\n",
       "    <tr>\n",
       "      <th>4521</th>\n",
       "      <td>44</td>\n",
       "      <td>entrepreneur</td>\n",
       "      <td>single</td>\n",
       "      <td>tertiary</td>\n",
       "      <td>no</td>\n",
       "      <td>1136</td>\n",
       "      <td>yes</td>\n",
       "      <td>yes</td>\n",
       "      <td>cellular</td>\n",
       "      <td>3</td>\n",
       "      <td>apr</td>\n",
       "      <td>345</td>\n",
       "      <td>2</td>\n",
       "      <td>249</td>\n",
       "      <td>7</td>\n",
       "      <td>other</td>\n",
       "      <td>no</td>\n",
       "    </tr>\n",
       "  </tbody>\n",
       "</table>\n",
       "</div>"
      ],
      "text/plain": [
       "      0              1        2          3    4      5    6    7         8   \\\n",
       "4517  33       services  married  secondary   no   -333  yes   no  cellular   \n",
       "4518  57  self-employed  married   tertiary  yes  -3313  yes  yes   unknown   \n",
       "4519  57     technician  married  secondary   no    295   no   no  cellular   \n",
       "4520  28    blue-collar  married  secondary   no   1137   no   no  cellular   \n",
       "4521  44   entrepreneur   single   tertiary   no   1136  yes  yes  cellular   \n",
       "\n",
       "      9    10   11  12   13 14       15  16  \n",
       "4517  30  jul  329   5   -1  0  unknown  no  \n",
       "4518   9  may  153   1   -1  0  unknown  no  \n",
       "4519  19  aug  151  11   -1  0  unknown  no  \n",
       "4520   6  feb  129   4  211  3    other  no  \n",
       "4521   3  apr  345   2  249  7    other  no  "
      ]
     },
     "execution_count": 3,
     "metadata": {},
     "output_type": "execute_result"
    }
   ],
   "source": [
    "data.tail()"
   ]
  },
  {
   "cell_type": "code",
   "execution_count": 4,
   "id": "f75695ec",
   "metadata": {},
   "outputs": [],
   "source": [
    "#It is best practice to make a copy of the original Dataframe for reference purpose since changes will be made during cleaning.\n",
    "\n",
    "data1 = data.copy()"
   ]
  },
  {
   "cell_type": "markdown",
   "id": "a06302a0",
   "metadata": {},
   "source": [
    "#### Source of data:\n",
    "The data is related with direct marketing campaigns of a Portuguese banking institution. The marketing campaigns were based on phone calls. Often, more than one contact to the same client was required, in order to access if the product (bank term deposit) would be (or not) subscribed. Citation: [Moro et al., 2011]\n",
    "\n",
    "\n",
    "#### Input variables:\n",
    " - Bank client data:\n",
    " \n",
    " 1. age (numeric)\n",
    " 2. job : type of job (categorical: \"admin.\",\"unknown\",\"unemployed\",\"management\",\"housemaid\",\"entrepreneur\",\"student\",\n",
    "    \"blue-collar\",\"self-employed\",\"retired\",\"technician\",\"services\") \n",
    " 3. marital : marital status (categorical: \"married\",\"divorced\",\"single\"; note: \"divorced\" means divorced or widowed)\n",
    " 4. education (categorical: \"unknown\",\"secondary\",\"primary\",\"tertiary\")\n",
    " 5. default: has credit in default? (binary: \"yes\",\"no\")\n",
    " 6. balance: average yearly balance, in euros (numeric) \n",
    " 7. housing: has housing loan? (binary: \"yes\",\"no\")\n",
    " 8. loan: has personal loan? (binary: \"yes\",\"no\")\n",
    "   \n",
    " - Related with the last contact of the current campaign:\n",
    " 9. contact: contact communication type (categorical: \"unknown\",\"telephone\",\"cellular\") \n",
    " 10. day: last contact day of the month (numeric)\n",
    " 11. month: last contact month of year (categorical: \"jan\", \"feb\", \"mar\", ..., \"nov\", \"dec\")\n",
    " 12. duration: last contact duration, in seconds (numeric)\n",
    " \n",
    " - other attributes:\n",
    " 13. campaign: number of contacts performed during this campaign and for this client (numeric, includes last contact)\n",
    " 14. pdays: number of days that passed by after the client was last contacted from a previous campaign (numeric, -1 means client was not previously contacted)\n",
    " 15. previous: number of contacts performed before this campaign and for this client (numeric)\n",
    " 16. poutcome: outcome of the previous marketing campaign (categorical: \"unknown\",\"other\",\"failure\",\"success\")\n",
    "\n",
    " - Output variable (desired target):\n",
    " 17. y - has the client subscribed a term deposit? (binary: \"yes\",\"no\")\n",
    "\n",
    "- Missing Attribute Values: None\n",
    "\n"
   ]
  },
  {
   "cell_type": "code",
   "execution_count": 5,
   "id": "07b34f9e",
   "metadata": {
    "scrolled": true
   },
   "outputs": [
    {
     "name": "stdout",
     "output_type": "stream",
     "text": [
      "<class 'pandas.core.frame.DataFrame'>\n",
      "RangeIndex: 4522 entries, 0 to 4521\n",
      "Data columns (total 17 columns):\n",
      " #   Column  Non-Null Count  Dtype \n",
      "---  ------  --------------  ----- \n",
      " 0   0       4522 non-null   object\n",
      " 1   1       4522 non-null   object\n",
      " 2   2       4522 non-null   object\n",
      " 3   3       4522 non-null   object\n",
      " 4   4       4522 non-null   object\n",
      " 5   5       4522 non-null   object\n",
      " 6   6       4522 non-null   object\n",
      " 7   7       4522 non-null   object\n",
      " 8   8       4522 non-null   object\n",
      " 9   9       4522 non-null   object\n",
      " 10  10      4522 non-null   object\n",
      " 11  11      4522 non-null   object\n",
      " 12  12      4522 non-null   object\n",
      " 13  13      4522 non-null   object\n",
      " 14  14      4522 non-null   object\n",
      " 15  15      4522 non-null   object\n",
      " 16  16      4522 non-null   object\n",
      "dtypes: object(17)\n",
      "memory usage: 600.7+ KB\n"
     ]
    }
   ],
   "source": [
    "#inspect the data\n",
    "data.info()"
   ]
  },
  {
   "cell_type": "code",
   "execution_count": 6,
   "id": "09cc2e53",
   "metadata": {
    "scrolled": true
   },
   "outputs": [
    {
     "data": {
      "text/html": [
       "<div>\n",
       "<style scoped>\n",
       "    .dataframe tbody tr th:only-of-type {\n",
       "        vertical-align: middle;\n",
       "    }\n",
       "\n",
       "    .dataframe tbody tr th {\n",
       "        vertical-align: top;\n",
       "    }\n",
       "\n",
       "    .dataframe thead th {\n",
       "        text-align: right;\n",
       "    }\n",
       "</style>\n",
       "<table border=\"1\" class=\"dataframe\">\n",
       "  <thead>\n",
       "    <tr style=\"text-align: right;\">\n",
       "      <th></th>\n",
       "      <th>0</th>\n",
       "      <th>1</th>\n",
       "      <th>2</th>\n",
       "      <th>3</th>\n",
       "      <th>4</th>\n",
       "      <th>5</th>\n",
       "      <th>6</th>\n",
       "      <th>7</th>\n",
       "      <th>8</th>\n",
       "      <th>9</th>\n",
       "      <th>10</th>\n",
       "      <th>11</th>\n",
       "      <th>12</th>\n",
       "      <th>13</th>\n",
       "      <th>14</th>\n",
       "      <th>15</th>\n",
       "      <th>16</th>\n",
       "    </tr>\n",
       "  </thead>\n",
       "  <tbody>\n",
       "    <tr>\n",
       "      <th>count</th>\n",
       "      <td>4522</td>\n",
       "      <td>4522</td>\n",
       "      <td>4522</td>\n",
       "      <td>4522</td>\n",
       "      <td>4522</td>\n",
       "      <td>4522</td>\n",
       "      <td>4522</td>\n",
       "      <td>4522</td>\n",
       "      <td>4522</td>\n",
       "      <td>4522</td>\n",
       "      <td>4522</td>\n",
       "      <td>4522</td>\n",
       "      <td>4522</td>\n",
       "      <td>4522</td>\n",
       "      <td>4522</td>\n",
       "      <td>4522</td>\n",
       "      <td>4522</td>\n",
       "    </tr>\n",
       "    <tr>\n",
       "      <th>unique</th>\n",
       "      <td>68</td>\n",
       "      <td>13</td>\n",
       "      <td>4</td>\n",
       "      <td>5</td>\n",
       "      <td>3</td>\n",
       "      <td>2354</td>\n",
       "      <td>3</td>\n",
       "      <td>3</td>\n",
       "      <td>4</td>\n",
       "      <td>32</td>\n",
       "      <td>13</td>\n",
       "      <td>876</td>\n",
       "      <td>33</td>\n",
       "      <td>293</td>\n",
       "      <td>25</td>\n",
       "      <td>5</td>\n",
       "      <td>3</td>\n",
       "    </tr>\n",
       "    <tr>\n",
       "      <th>top</th>\n",
       "      <td>34</td>\n",
       "      <td>management</td>\n",
       "      <td>married</td>\n",
       "      <td>secondary</td>\n",
       "      <td>no</td>\n",
       "      <td>0</td>\n",
       "      <td>yes</td>\n",
       "      <td>no</td>\n",
       "      <td>cellular</td>\n",
       "      <td>20</td>\n",
       "      <td>may</td>\n",
       "      <td>123</td>\n",
       "      <td>1</td>\n",
       "      <td>-1</td>\n",
       "      <td>0</td>\n",
       "      <td>unknown</td>\n",
       "      <td>no</td>\n",
       "    </tr>\n",
       "    <tr>\n",
       "      <th>freq</th>\n",
       "      <td>231</td>\n",
       "      <td>969</td>\n",
       "      <td>2797</td>\n",
       "      <td>2306</td>\n",
       "      <td>4445</td>\n",
       "      <td>357</td>\n",
       "      <td>2559</td>\n",
       "      <td>3830</td>\n",
       "      <td>2896</td>\n",
       "      <td>257</td>\n",
       "      <td>1398</td>\n",
       "      <td>27</td>\n",
       "      <td>1734</td>\n",
       "      <td>3705</td>\n",
       "      <td>3705</td>\n",
       "      <td>3705</td>\n",
       "      <td>4000</td>\n",
       "    </tr>\n",
       "  </tbody>\n",
       "</table>\n",
       "</div>"
      ],
      "text/plain": [
       "          0           1        2          3     4     5     6     7   \\\n",
       "count   4522        4522     4522       4522  4522  4522  4522  4522   \n",
       "unique    68          13        4          5     3  2354     3     3   \n",
       "top       34  management  married  secondary    no     0   yes    no   \n",
       "freq     231         969     2797       2306  4445   357  2559  3830   \n",
       "\n",
       "              8     9     10    11    12    13    14       15    16  \n",
       "count       4522  4522  4522  4522  4522  4522  4522     4522  4522  \n",
       "unique         4    32    13   876    33   293    25        5     3  \n",
       "top     cellular    20   may   123     1    -1     0  unknown    no  \n",
       "freq        2896   257  1398    27  1734  3705  3705     3705  4000  "
      ]
     },
     "execution_count": 6,
     "metadata": {},
     "output_type": "execute_result"
    }
   ],
   "source": [
    "# Statistical analysis\n",
    "data.describe()   # Since the values' dtype are object, it only returns count, unique, top and frequency count.\n"
   ]
  },
  {
   "cell_type": "code",
   "execution_count": 7,
   "id": "1685ec69",
   "metadata": {},
   "outputs": [
    {
     "data": {
      "text/plain": [
       "(4522, 17)"
      ]
     },
     "execution_count": 7,
     "metadata": {},
     "output_type": "execute_result"
    }
   ],
   "source": [
    "# Number of Rows and Columns\n",
    "data.shape"
   ]
  },
  {
   "cell_type": "code",
   "execution_count": 8,
   "id": "0d69f167",
   "metadata": {},
   "outputs": [
    {
     "data": {
      "text/plain": [
       "0     0\n",
       "1     0\n",
       "2     0\n",
       "3     0\n",
       "4     0\n",
       "5     0\n",
       "6     0\n",
       "7     0\n",
       "8     0\n",
       "9     0\n",
       "10    0\n",
       "11    0\n",
       "12    0\n",
       "13    0\n",
       "14    0\n",
       "15    0\n",
       "16    0\n",
       "dtype: int64"
      ]
     },
     "execution_count": 8,
     "metadata": {},
     "output_type": "execute_result"
    }
   ],
   "source": [
    "# Checking for missing values\n",
    "data.isnull().sum()"
   ]
  },
  {
   "cell_type": "markdown",
   "id": "a25d8faf",
   "metadata": {},
   "source": [
    "# Data Cleansing\n",
    "\n",
    "Data cleaning steps taken include:\n",
    "* Handling dataframe heading\n",
    "* Removing or deleting unnecessary records\n",
    "* Changing of Dtype of numeric columns"
   ]
  },
  {
   "cell_type": "code",
   "execution_count": 9,
   "id": "0dd18e68",
   "metadata": {},
   "outputs": [
    {
     "data": {
      "text/html": [
       "<div>\n",
       "<style scoped>\n",
       "    .dataframe tbody tr th:only-of-type {\n",
       "        vertical-align: middle;\n",
       "    }\n",
       "\n",
       "    .dataframe tbody tr th {\n",
       "        vertical-align: top;\n",
       "    }\n",
       "\n",
       "    .dataframe thead th {\n",
       "        text-align: right;\n",
       "    }\n",
       "</style>\n",
       "<table border=\"1\" class=\"dataframe\">\n",
       "  <thead>\n",
       "    <tr style=\"text-align: right;\">\n",
       "      <th></th>\n",
       "      <th>age</th>\n",
       "      <th>job</th>\n",
       "      <th>marital</th>\n",
       "      <th>education</th>\n",
       "      <th>default</th>\n",
       "      <th>balance</th>\n",
       "      <th>housing</th>\n",
       "      <th>loan</th>\n",
       "      <th>contact</th>\n",
       "      <th>day</th>\n",
       "      <th>month</th>\n",
       "      <th>duration</th>\n",
       "      <th>campaign</th>\n",
       "      <th>pdays</th>\n",
       "      <th>previous</th>\n",
       "      <th>poutcome</th>\n",
       "      <th>y</th>\n",
       "    </tr>\n",
       "  </thead>\n",
       "  <tbody>\n",
       "    <tr>\n",
       "      <th>0</th>\n",
       "      <td>age</td>\n",
       "      <td>job</td>\n",
       "      <td>marital</td>\n",
       "      <td>education</td>\n",
       "      <td>default</td>\n",
       "      <td>balance</td>\n",
       "      <td>housing</td>\n",
       "      <td>loan</td>\n",
       "      <td>contact</td>\n",
       "      <td>day</td>\n",
       "      <td>month</td>\n",
       "      <td>duration</td>\n",
       "      <td>campaign</td>\n",
       "      <td>pdays</td>\n",
       "      <td>previous</td>\n",
       "      <td>poutcome</td>\n",
       "      <td>y</td>\n",
       "    </tr>\n",
       "    <tr>\n",
       "      <th>1</th>\n",
       "      <td>30</td>\n",
       "      <td>unemployed</td>\n",
       "      <td>married</td>\n",
       "      <td>primary</td>\n",
       "      <td>no</td>\n",
       "      <td>1787</td>\n",
       "      <td>no</td>\n",
       "      <td>no</td>\n",
       "      <td>cellular</td>\n",
       "      <td>19</td>\n",
       "      <td>oct</td>\n",
       "      <td>79</td>\n",
       "      <td>1</td>\n",
       "      <td>-1</td>\n",
       "      <td>0</td>\n",
       "      <td>unknown</td>\n",
       "      <td>no</td>\n",
       "    </tr>\n",
       "  </tbody>\n",
       "</table>\n",
       "</div>"
      ],
      "text/plain": [
       "   age         job  marital  education  default  balance  housing  loan  \\\n",
       "0  age         job  marital  education  default  balance  housing  loan   \n",
       "1   30  unemployed  married    primary       no     1787       no    no   \n",
       "\n",
       "    contact  day  month  duration  campaign  pdays  previous  poutcome   y  \n",
       "0   contact  day  month  duration  campaign  pdays  previous  poutcome   y  \n",
       "1  cellular   19    oct        79         1     -1         0   unknown  no  "
      ]
     },
     "execution_count": 9,
     "metadata": {},
     "output_type": "execute_result"
    }
   ],
   "source": [
    "#set values in the first row as columns to the data frame\n",
    "data.rename(columns = data.iloc[0],inplace=True)\n",
    "data.head(2)\n"
   ]
  },
  {
   "cell_type": "code",
   "execution_count": 10,
   "id": "330620fa",
   "metadata": {},
   "outputs": [
    {
     "data": {
      "text/html": [
       "<div>\n",
       "<style scoped>\n",
       "    .dataframe tbody tr th:only-of-type {\n",
       "        vertical-align: middle;\n",
       "    }\n",
       "\n",
       "    .dataframe tbody tr th {\n",
       "        vertical-align: top;\n",
       "    }\n",
       "\n",
       "    .dataframe thead th {\n",
       "        text-align: right;\n",
       "    }\n",
       "</style>\n",
       "<table border=\"1\" class=\"dataframe\">\n",
       "  <thead>\n",
       "    <tr style=\"text-align: right;\">\n",
       "      <th></th>\n",
       "      <th>age</th>\n",
       "      <th>job</th>\n",
       "      <th>marital</th>\n",
       "      <th>education</th>\n",
       "      <th>default</th>\n",
       "      <th>balance</th>\n",
       "      <th>housing</th>\n",
       "      <th>loan</th>\n",
       "      <th>contact</th>\n",
       "      <th>day</th>\n",
       "      <th>month</th>\n",
       "      <th>duration</th>\n",
       "      <th>campaign</th>\n",
       "      <th>pdays</th>\n",
       "      <th>previous</th>\n",
       "      <th>poutcome</th>\n",
       "      <th>y</th>\n",
       "    </tr>\n",
       "  </thead>\n",
       "  <tbody>\n",
       "    <tr>\n",
       "      <th>1</th>\n",
       "      <td>30</td>\n",
       "      <td>unemployed</td>\n",
       "      <td>married</td>\n",
       "      <td>primary</td>\n",
       "      <td>no</td>\n",
       "      <td>1787</td>\n",
       "      <td>no</td>\n",
       "      <td>no</td>\n",
       "      <td>cellular</td>\n",
       "      <td>19</td>\n",
       "      <td>oct</td>\n",
       "      <td>79</td>\n",
       "      <td>1</td>\n",
       "      <td>-1</td>\n",
       "      <td>0</td>\n",
       "      <td>unknown</td>\n",
       "      <td>no</td>\n",
       "    </tr>\n",
       "    <tr>\n",
       "      <th>2</th>\n",
       "      <td>33</td>\n",
       "      <td>services</td>\n",
       "      <td>married</td>\n",
       "      <td>secondary</td>\n",
       "      <td>no</td>\n",
       "      <td>4789</td>\n",
       "      <td>yes</td>\n",
       "      <td>yes</td>\n",
       "      <td>cellular</td>\n",
       "      <td>11</td>\n",
       "      <td>may</td>\n",
       "      <td>220</td>\n",
       "      <td>1</td>\n",
       "      <td>339</td>\n",
       "      <td>4</td>\n",
       "      <td>failure</td>\n",
       "      <td>no</td>\n",
       "    </tr>\n",
       "  </tbody>\n",
       "</table>\n",
       "</div>"
      ],
      "text/plain": [
       "  age         job  marital  education default balance housing loan   contact  \\\n",
       "1  30  unemployed  married    primary      no    1787      no   no  cellular   \n",
       "2  33    services  married  secondary      no    4789     yes  yes  cellular   \n",
       "\n",
       "  day month duration campaign pdays previous poutcome   y  \n",
       "1  19   oct       79        1    -1        0  unknown  no  \n",
       "2  11   may      220        1   339        4  failure  no  "
      ]
     },
     "execution_count": 10,
     "metadata": {},
     "output_type": "execute_result"
    }
   ],
   "source": [
    "#delete the first row \n",
    "data.drop(0,inplace=True)\n",
    "data.head(2)"
   ]
  },
  {
   "cell_type": "code",
   "execution_count": 11,
   "id": "eb21710a",
   "metadata": {},
   "outputs": [],
   "source": [
    "# Rename the \"y\" column to Subscribed\n",
    "data['subscribed']= data['y'].replace(\"y\", \"subscribed\")\n",
    "\n",
    "data.drop('y', axis=1,inplace=True)"
   ]
  },
  {
   "cell_type": "code",
   "execution_count": 12,
   "id": "fb2c4cc9",
   "metadata": {},
   "outputs": [],
   "source": [
    "# Change numeric columns from object to integers\n",
    "\n",
    "data['age'] = data['age'].astype(int)\n",
    "data['balance'] = data['balance'].astype(int)\n",
    "data['campaign'] = data['campaign'].astype(int)"
   ]
  },
  {
   "cell_type": "code",
   "execution_count": 13,
   "id": "2e400a4c",
   "metadata": {},
   "outputs": [
    {
     "name": "stdout",
     "output_type": "stream",
     "text": [
      "<class 'pandas.core.frame.DataFrame'>\n",
      "RangeIndex: 4521 entries, 1 to 4521\n",
      "Data columns (total 17 columns):\n",
      " #   Column      Non-Null Count  Dtype \n",
      "---  ------      --------------  ----- \n",
      " 0   age         4521 non-null   int32 \n",
      " 1   job         4521 non-null   object\n",
      " 2   marital     4521 non-null   object\n",
      " 3   education   4521 non-null   object\n",
      " 4   default     4521 non-null   object\n",
      " 5   balance     4521 non-null   int32 \n",
      " 6   housing     4521 non-null   object\n",
      " 7   loan        4521 non-null   object\n",
      " 8   contact     4521 non-null   object\n",
      " 9   day         4521 non-null   object\n",
      " 10  month       4521 non-null   object\n",
      " 11  duration    4521 non-null   object\n",
      " 12  campaign    4521 non-null   int32 \n",
      " 13  pdays       4521 non-null   object\n",
      " 14  previous    4521 non-null   object\n",
      " 15  poutcome    4521 non-null   object\n",
      " 16  subscribed  4521 non-null   object\n",
      "dtypes: int32(3), object(14)\n",
      "memory usage: 547.6+ KB\n"
     ]
    }
   ],
   "source": [
    "data.info()"
   ]
  },
  {
   "cell_type": "code",
   "execution_count": 14,
   "id": "4e455dd8",
   "metadata": {},
   "outputs": [
    {
     "data": {
      "text/plain": [
       "(4521, 17)"
      ]
     },
     "execution_count": 14,
     "metadata": {},
     "output_type": "execute_result"
    }
   ],
   "source": [
    "# recheck data frame shape and describe() after cleaning\n",
    "data.shape\n"
   ]
  },
  {
   "cell_type": "code",
   "execution_count": 15,
   "id": "357a39ef",
   "metadata": {
    "scrolled": true
   },
   "outputs": [
    {
     "data": {
      "text/html": [
       "<div>\n",
       "<style scoped>\n",
       "    .dataframe tbody tr th:only-of-type {\n",
       "        vertical-align: middle;\n",
       "    }\n",
       "\n",
       "    .dataframe tbody tr th {\n",
       "        vertical-align: top;\n",
       "    }\n",
       "\n",
       "    .dataframe thead th {\n",
       "        text-align: right;\n",
       "    }\n",
       "</style>\n",
       "<table border=\"1\" class=\"dataframe\">\n",
       "  <thead>\n",
       "    <tr style=\"text-align: right;\">\n",
       "      <th></th>\n",
       "      <th>age</th>\n",
       "      <th>balance</th>\n",
       "      <th>campaign</th>\n",
       "    </tr>\n",
       "  </thead>\n",
       "  <tbody>\n",
       "    <tr>\n",
       "      <th>count</th>\n",
       "      <td>4521.000000</td>\n",
       "      <td>4521.000000</td>\n",
       "      <td>4521.000000</td>\n",
       "    </tr>\n",
       "    <tr>\n",
       "      <th>mean</th>\n",
       "      <td>41.170095</td>\n",
       "      <td>1422.657819</td>\n",
       "      <td>2.793630</td>\n",
       "    </tr>\n",
       "    <tr>\n",
       "      <th>std</th>\n",
       "      <td>10.576211</td>\n",
       "      <td>3009.638142</td>\n",
       "      <td>3.109807</td>\n",
       "    </tr>\n",
       "    <tr>\n",
       "      <th>min</th>\n",
       "      <td>19.000000</td>\n",
       "      <td>-3313.000000</td>\n",
       "      <td>1.000000</td>\n",
       "    </tr>\n",
       "    <tr>\n",
       "      <th>25%</th>\n",
       "      <td>33.000000</td>\n",
       "      <td>69.000000</td>\n",
       "      <td>1.000000</td>\n",
       "    </tr>\n",
       "    <tr>\n",
       "      <th>50%</th>\n",
       "      <td>39.000000</td>\n",
       "      <td>444.000000</td>\n",
       "      <td>2.000000</td>\n",
       "    </tr>\n",
       "    <tr>\n",
       "      <th>75%</th>\n",
       "      <td>49.000000</td>\n",
       "      <td>1480.000000</td>\n",
       "      <td>3.000000</td>\n",
       "    </tr>\n",
       "    <tr>\n",
       "      <th>max</th>\n",
       "      <td>87.000000</td>\n",
       "      <td>71188.000000</td>\n",
       "      <td>50.000000</td>\n",
       "    </tr>\n",
       "  </tbody>\n",
       "</table>\n",
       "</div>"
      ],
      "text/plain": [
       "               age       balance     campaign\n",
       "count  4521.000000   4521.000000  4521.000000\n",
       "mean     41.170095   1422.657819     2.793630\n",
       "std      10.576211   3009.638142     3.109807\n",
       "min      19.000000  -3313.000000     1.000000\n",
       "25%      33.000000     69.000000     1.000000\n",
       "50%      39.000000    444.000000     2.000000\n",
       "75%      49.000000   1480.000000     3.000000\n",
       "max      87.000000  71188.000000    50.000000"
      ]
     },
     "execution_count": 15,
     "metadata": {},
     "output_type": "execute_result"
    }
   ],
   "source": [
    "data.describe() "
   ]
  },
  {
   "cell_type": "code",
   "execution_count": null,
   "id": "919d1ca1",
   "metadata": {},
   "outputs": [],
   "source": []
  },
  {
   "cell_type": "markdown",
   "id": "abc83ce7",
   "metadata": {},
   "source": [
    "# Data Visualization\n",
    "\n",
    "Visualization of the relationships in the data set.\n",
    "\n",
    "## Univariate Analysis\n",
    "\n",
    "Charts with only one variable (column) at a time. \n",
    "\n"
   ]
  },
  {
   "cell_type": "code",
   "execution_count": 16,
   "id": "3dab2669",
   "metadata": {},
   "outputs": [],
   "source": [
    "# For proper visualization of the numeric values like age and balance, a new column for grouping will be created."
   ]
  },
  {
   "cell_type": "code",
   "execution_count": 17,
   "id": "51a1fc6a",
   "metadata": {},
   "outputs": [
    {
     "data": {
      "text/plain": [
       "<AxesSubplot:title={'center':'Customer Age group'}, xlabel='age_group', ylabel='Count'>"
      ]
     },
     "execution_count": 17,
     "metadata": {},
     "output_type": "execute_result"
    },
    {
     "data": {
      "image/png": "[encoded data removed]",
      "text/plain": [
       "<Figure size 864x216 with 1 Axes>"
      ]
     },
     "metadata": {
      "needs_background": "light"
     },
     "output_type": "display_data"
    }
   ],
   "source": [
    "# Creating new column\n",
    "\n",
    "# Age\n",
    "\n",
    "# create a function that categorises customer age\n",
    "def age_bracket(age):\n",
    "    if age <= 33:\n",
    "        return \"Youth(19-33)\"\n",
    "    elif age <=48:\n",
    "        return \"Adult(34-48)\"\n",
    "    elif age <=64:\n",
    "        return \"Old Adult(50-64)\"\n",
    "    elif age <= 79:\n",
    "        return \"Elders(65-79)\"\n",
    "    else: \n",
    "        return \"Aged(>79)\"\n",
    "\n",
    "    \n",
    "# Create a new column for age category\n",
    "data[\"age_group\"] = data[\"age\"].apply(age_bracket)\n",
    "\n",
    "#Create visualization for age using age_group column\n",
    "plt.figure(figsize = (12,3))\n",
    "plt.title('Customer Age group')\n",
    "sns.histplot(x = \"age_group\", data = data)\n"
   ]
  },
  {
   "cell_type": "markdown",
   "id": "f4b27f06",
   "metadata": {},
   "source": [
    "Most interviewed Customers were between age 34 & 48 (Adult)"
   ]
  },
  {
   "cell_type": "code",
   "execution_count": 18,
   "id": "19c818fb",
   "metadata": {},
   "outputs": [
    {
     "data": {
      "text/html": [
       "<div>\n",
       "<style scoped>\n",
       "    .dataframe tbody tr th:only-of-type {\n",
       "        vertical-align: middle;\n",
       "    }\n",
       "\n",
       "    .dataframe tbody tr th {\n",
       "        vertical-align: top;\n",
       "    }\n",
       "\n",
       "    .dataframe thead th {\n",
       "        text-align: right;\n",
       "    }\n",
       "</style>\n",
       "<table border=\"1\" class=\"dataframe\">\n",
       "  <thead>\n",
       "    <tr style=\"text-align: right;\">\n",
       "      <th></th>\n",
       "      <th>age</th>\n",
       "      <th>job</th>\n",
       "      <th>marital</th>\n",
       "      <th>education</th>\n",
       "      <th>default</th>\n",
       "      <th>balance</th>\n",
       "      <th>housing</th>\n",
       "      <th>loan</th>\n",
       "      <th>contact</th>\n",
       "      <th>day</th>\n",
       "      <th>month</th>\n",
       "      <th>duration</th>\n",
       "      <th>campaign</th>\n",
       "      <th>pdays</th>\n",
       "      <th>previous</th>\n",
       "      <th>poutcome</th>\n",
       "      <th>subscribed</th>\n",
       "      <th>age_group</th>\n",
       "      <th>balance_group</th>\n",
       "    </tr>\n",
       "  </thead>\n",
       "  <tbody>\n",
       "    <tr>\n",
       "      <th>1</th>\n",
       "      <td>30</td>\n",
       "      <td>unemployed</td>\n",
       "      <td>married</td>\n",
       "      <td>primary</td>\n",
       "      <td>no</td>\n",
       "      <td>1787</td>\n",
       "      <td>no</td>\n",
       "      <td>no</td>\n",
       "      <td>cellular</td>\n",
       "      <td>19</td>\n",
       "      <td>oct</td>\n",
       "      <td>79</td>\n",
       "      <td>1</td>\n",
       "      <td>-1</td>\n",
       "      <td>0</td>\n",
       "      <td>unknown</td>\n",
       "      <td>no</td>\n",
       "      <td>Youth(19-33)</td>\n",
       "      <td>&lt;15k</td>\n",
       "    </tr>\n",
       "    <tr>\n",
       "      <th>2</th>\n",
       "      <td>33</td>\n",
       "      <td>services</td>\n",
       "      <td>married</td>\n",
       "      <td>secondary</td>\n",
       "      <td>no</td>\n",
       "      <td>4789</td>\n",
       "      <td>yes</td>\n",
       "      <td>yes</td>\n",
       "      <td>cellular</td>\n",
       "      <td>11</td>\n",
       "      <td>may</td>\n",
       "      <td>220</td>\n",
       "      <td>1</td>\n",
       "      <td>339</td>\n",
       "      <td>4</td>\n",
       "      <td>failure</td>\n",
       "      <td>no</td>\n",
       "      <td>Youth(19-33)</td>\n",
       "      <td>&lt;15k</td>\n",
       "    </tr>\n",
       "  </tbody>\n",
       "</table>\n",
       "</div>"
      ],
      "text/plain": [
       "   age         job  marital  education default  balance housing loan  \\\n",
       "1   30  unemployed  married    primary      no     1787      no   no   \n",
       "2   33    services  married  secondary      no     4789     yes  yes   \n",
       "\n",
       "    contact day month duration  campaign pdays previous poutcome subscribed  \\\n",
       "1  cellular  19   oct       79         1    -1        0  unknown         no   \n",
       "2  cellular  11   may      220         1   339        4  failure         no   \n",
       "\n",
       "      age_group balance_group  \n",
       "1  Youth(19-33)          <15k  \n",
       "2  Youth(19-33)          <15k  "
      ]
     },
     "execution_count": 18,
     "metadata": {},
     "output_type": "execute_result"
    }
   ],
   "source": [
    "# Balance\n",
    "\n",
    "# create a function that categorises customer age\n",
    "def balance_bracket(balance):\n",
    "    if balance <= 15000:\n",
    "        return \"<15k\"\n",
    "    elif balance <=30000:\n",
    "        return \"<=30k\"\n",
    "    elif balance <=50000:\n",
    "        return \"<50k\"\n",
    "    elif balance <= 75000:\n",
    "        return \"75k\"\n",
    "    else: \n",
    "        return \">75k)\"\n",
    "\n",
    "    \n",
    "# Create a new column for age category\n",
    "data[\"balance_group\"] = data[\"balance\"].apply(balance_bracket)\n",
    "data.head(2)\n"
   ]
  },
  {
   "cell_type": "code",
   "execution_count": 19,
   "id": "f59675aa",
   "metadata": {
    "scrolled": true
   },
   "outputs": [
    {
     "data": {
      "text/plain": [
       "<AxesSubplot:title={'center':'Customer Job type'}, xlabel='job', ylabel='count'>"
      ]
     },
     "execution_count": 19,
     "metadata": {},
     "output_type": "execute_result"
    },
    {
     "data": {
      "image/png": "[encoded data removed]",
      "text/plain": [
       "<Figure size 1080x360 with 1 Axes>"
      ]
     },
     "metadata": {
      "needs_background": "light"
     },
     "output_type": "display_data"
    }
   ],
   "source": [
    "#Create visualization for Job\n",
    "plt.figure(figsize = (15,5))\n",
    "plt.title('Customer Job type')\n",
    "sns.countplot(x = \"job\", data = data)"
   ]
  },
  {
   "cell_type": "markdown",
   "id": "17a0afec",
   "metadata": {},
   "source": [
    "Higher Percentage of interviewed Customers worked in the management category"
   ]
  },
  {
   "cell_type": "code",
   "execution_count": 20,
   "id": "0ce3e8a7",
   "metadata": {
    "scrolled": true
   },
   "outputs": [
    {
     "data": {
      "text/plain": [
       "<AxesSubplot:title={'center':'Campaign Result'}, xlabel='campaign', ylabel='Count'>"
      ]
     },
     "execution_count": 20,
     "metadata": {},
     "output_type": "execute_result"
    },
    {
     "data": {
      "image/png": "[encoded data removed]",
      "text/plain": [
       "<Figure size 1080x360 with 1 Axes>"
      ]
     },
     "metadata": {
      "needs_background": "light"
     },
     "output_type": "display_data"
    }
   ],
   "source": [
    "#Create visualization for campaign\n",
    "plt.figure(figsize = (15,5))\n",
    "plt.title('Campaign Result')\n",
    "sns.histplot(x = \"campaign\", data = data)"
   ]
  },
  {
   "cell_type": "markdown",
   "id": "91f80dd4",
   "metadata": {},
   "source": []
  },
  {
   "cell_type": "code",
   "execution_count": 21,
   "id": "4752556f",
   "metadata": {},
   "outputs": [
    {
     "data": {
      "text/plain": [
       "<AxesSubplot:xlabel='balance_group', ylabel='Count'>"
      ]
     },
     "execution_count": 21,
     "metadata": {},
     "output_type": "execute_result"
    },
    {
     "data": {
      "image/png": "[encoded data removed]",
      "text/plain": [
       "<Figure size 1440x720 with 9 Axes>"
      ]
     },
     "metadata": {
      "needs_background": "light"
     },
     "output_type": "display_data"
    }
   ],
   "source": [
    "# For other Univariate Analysis, we will create a subplot\n",
    "\n",
    "#Categorical data - Bar\n",
    "fig, axes = plt.subplots(3, 3, figsize = (20,10))\n",
    "sns.countplot(x=\"marital\", data=data, ax=axes[0,0])\n",
    "sns.countplot(x=\"education\", data=data, ax=axes[0,1])\n",
    "sns.countplot(x=\"default\", data=data, ax=axes[0,2])\n",
    "sns.countplot(x=\"housing\", data=data, ax=axes[1,0])\n",
    "sns.countplot(x=\"loan\", data=data, ax=axes[1,1])\n",
    "sns.countplot(x=\"contact\", data=data, ax=axes[1,2])\n",
    "sns.countplot(x=\"poutcome\", data=data, ax=axes[2,0])\n",
    "sns.countplot(x=\"subscribed\", data=data, ax=axes[2,1])\n",
    "\n",
    "# Numerical Data _ Histogram\n",
    "sns.histplot(x=\"balance_group\", data = data, ax=axes[2,2])\n"
   ]
  },
  {
   "cell_type": "markdown",
   "id": "26336719",
   "metadata": {},
   "source": [
    "- Marital: More Married Customers were interviewed for this campaign\n",
    "- Education: Most interviewed Customers were at Secondary education level\n",
    "- Default: About 95% of interviewed Customers doesn't have credit in default\n",
    "- Housing: Higher number of the interviewed Customers took house loans (About 55%)\n",
    "- Loan: Most interviewed Customers does not have personal loan\n",
    "- Contact: Higher percentage of the interviewed Customers used cellular contact\n",
    "- POutcome: Result from the previous marketing survey was not productive, as about 75% of the result was unknown\n",
    "- Balance: Most interviewed Customers had balance <15000"
   ]
  },
  {
   "cell_type": "code",
   "execution_count": 22,
   "id": "b5d7c781",
   "metadata": {},
   "outputs": [
    {
     "data": {
      "text/plain": [
       "Text(0.5, 1.0, 'Subscribed')"
      ]
     },
     "execution_count": 22,
     "metadata": {},
     "output_type": "execute_result"
    },
    {
     "data": {
      "image/png": "[encoded data removed]",
      "text/plain": [
       "<Figure size 720x360 with 1 Axes>"
      ]
     },
     "metadata": {},
     "output_type": "display_data"
    }
   ],
   "source": [
    "#Create visualization for campaign\n",
    "plt.figure(figsize=(10,5))\n",
    "data['subscribed'].value_counts(normalize=True).plot.pie(autopct=\"%.2f\")\n",
    "plt.title('Subscribed')\n"
   ]
  },
  {
   "cell_type": "markdown",
   "id": "8f83728a",
   "metadata": {},
   "source": [
    "About 88% of interviewed Customers didn't subscribe to the term deposit"
   ]
  },
  {
   "cell_type": "markdown",
   "id": "e37369fa",
   "metadata": {},
   "source": [
    "## Bivariate Analysis\n",
    "\n",
    "Charts with only two variables at a time.\n",
    "\n"
   ]
  },
  {
   "cell_type": "code",
   "execution_count": 23,
   "id": "61273006",
   "metadata": {
    "scrolled": false
   },
   "outputs": [
    {
     "data": {
      "text/plain": [
       "<AxesSubplot:title={'center':'Subscribed by Age'}, xlabel='age_group', ylabel='count'>"
      ]
     },
     "execution_count": 23,
     "metadata": {},
     "output_type": "execute_result"
    },
    {
     "data": {
      "image/png": "[encoded data removed]",
      "text/plain": [
       "<Figure size 720x360 with 1 Axes>"
      ]
     },
     "metadata": {
      "needs_background": "light"
     },
     "output_type": "display_data"
    }
   ],
   "source": [
    "#Subscribed by Age\n",
    "\n",
    "plt.figure(figsize = (10,5))\n",
    "plt.title('Subscribed by Age')\n",
    "sns.countplot(x = \"age_group\", data = data, hue = \"subscribed\")\n"
   ]
  },
  {
   "cell_type": "markdown",
   "id": "0aae0822",
   "metadata": {},
   "source": [
    "Highest number of customers that subscribed are between age 34 & 48 (Adults), also Highest number of customers that did not subscribe are between age 34 & 48 "
   ]
  },
  {
   "cell_type": "code",
   "execution_count": 24,
   "id": "b3a6e5a1",
   "metadata": {},
   "outputs": [
    {
     "data": {
      "text/plain": [
       "<AxesSubplot:title={'center':'Subscribed by Job category'}, xlabel='job', ylabel='count'>"
      ]
     },
     "execution_count": 24,
     "metadata": {},
     "output_type": "execute_result"
    },
    {
     "data": {
      "image/png": "[encoded data removed]",
      "text/plain": [
       "<Figure size 1080x360 with 1 Axes>"
      ]
     },
     "metadata": {
      "needs_background": "light"
     },
     "output_type": "display_data"
    }
   ],
   "source": [
    "#Subscribed by Job type\n",
    "\n",
    "plt.figure(figsize = (15,5))\n",
    "plt.title('Subscribed by Job category')\n",
    "sns.countplot(x = \"job\", data = data, hue = \"subscribed\")\n",
    "\n"
   ]
  },
  {
   "cell_type": "markdown",
   "id": "61541bb3",
   "metadata": {},
   "source": [
    "Highest number of customers that subscribed are under the management job category, also Highest number of customers that did not subscribe are under the blue_collar job category"
   ]
  },
  {
   "cell_type": "code",
   "execution_count": 25,
   "id": "0e22408b",
   "metadata": {},
   "outputs": [
    {
     "data": {
      "text/plain": [
       "<AxesSubplot:title={'center':'Subscribed by Balance'}, xlabel='balance_group', ylabel='count'>"
      ]
     },
     "execution_count": 25,
     "metadata": {},
     "output_type": "execute_result"
    },
    {
     "data": {
      "image/png": "[encoded data removed]",
      "text/plain": [
       "<Figure size 720x360 with 1 Axes>"
      ]
     },
     "metadata": {
      "needs_background": "light"
     },
     "output_type": "display_data"
    }
   ],
   "source": [
    "#Subscribed by Age\n",
    "\n",
    "plt.figure(figsize = (10,5))\n",
    "plt.title('Subscribed by Balance')\n",
    "sns.countplot(x = \"balance_group\", data = data, hue = \"subscribed\")\n"
   ]
  },
  {
   "cell_type": "markdown",
   "id": "ff02fc23",
   "metadata": {},
   "source": [
    "Since most of the interviewed customers'  balance was >=15000, 10% of them subscribed to the term deposit"
   ]
  },
  {
   "cell_type": "code",
   "execution_count": 26,
   "id": "07a9dd02",
   "metadata": {},
   "outputs": [
    {
     "data": {
      "text/plain": [
       "<AxesSubplot:title={'center':'Subscribed by Education'}, xlabel='education', ylabel='count'>"
      ]
     },
     "execution_count": 26,
     "metadata": {},
     "output_type": "execute_result"
    },
    {
     "data": {
      "image/png": "[encoded data removed]",
      "text/plain": [
       "<Figure size 720x360 with 1 Axes>"
      ]
     },
     "metadata": {
      "needs_background": "light"
     },
     "output_type": "display_data"
    }
   ],
   "source": [
    "#Subscribed by education\n",
    "\n",
    "plt.figure(figsize = (10,5))\n",
    "plt.title('Subscribed by Education')\n",
    "sns.countplot(x = \"education\", data = data, hue = \"subscribed\")"
   ]
  },
  {
   "cell_type": "markdown",
   "id": "8f3d64ad",
   "metadata": {},
   "source": [
    "Secondary education level customers subscribed most compared to other education level, also, they had the highest level of no-subscription"
   ]
  },
  {
   "cell_type": "code",
   "execution_count": 27,
   "id": "357e503f",
   "metadata": {},
   "outputs": [
    {
     "data": {
      "text/plain": [
       "<AxesSubplot:title={'center':'Subscribed by Marital Status'}, xlabel='marital', ylabel='count'>"
      ]
     },
     "execution_count": 27,
     "metadata": {},
     "output_type": "execute_result"
    },
    {
     "data": {
      "image/png": "[encoded data removed]",
      "text/plain": [
       "<Figure size 720x360 with 1 Axes>"
      ]
     },
     "metadata": {
      "needs_background": "light"
     },
     "output_type": "display_data"
    }
   ],
   "source": [
    "#Subscribed by Martial Status\n",
    "\n",
    "plt.figure(figsize = (10,5))\n",
    "plt.title('Subscribed by Marital Status')\n",
    "sns.countplot(x = \"marital\", data = data, hue = \"subscribed\")"
   ]
  },
  {
   "cell_type": "markdown",
   "id": "f259b7d8",
   "metadata": {},
   "source": [
    "Married customers subscribed most compared to single and divorced customer, also, they had the highest level of no-subscription"
   ]
  },
  {
   "cell_type": "code",
   "execution_count": 28,
   "id": "8df75bd1",
   "metadata": {},
   "outputs": [
    {
     "data": {
      "text/plain": [
       "<AxesSubplot:title={'center':'Subscribed by Loan'}, xlabel='loan', ylabel='count'>"
      ]
     },
     "execution_count": 28,
     "metadata": {},
     "output_type": "execute_result"
    },
    {
     "data": {
      "image/png": "[encoded data removed]",
      "text/plain": [
       "<Figure size 720x360 with 1 Axes>"
      ]
     },
     "metadata": {
      "needs_background": "light"
     },
     "output_type": "display_data"
    }
   ],
   "source": [
    "#Subscribed by Loan\n",
    "\n",
    "plt.figure(figsize = (10,5))\n",
    "plt.title('Subscribed by Loan')\n",
    "sns.countplot(x = \"loan\", data = data, hue = \"subscribed\")"
   ]
  },
  {
   "cell_type": "markdown",
   "id": "995149af",
   "metadata": {},
   "source": [
    "Customers without any loan subscribed more compared to those with loan"
   ]
  },
  {
   "cell_type": "code",
   "execution_count": 29,
   "id": "cb24d590",
   "metadata": {},
   "outputs": [
    {
     "data": {
      "text/plain": [
       "<AxesSubplot:title={'center':'Subscribed by Housing'}, xlabel='housing', ylabel='count'>"
      ]
     },
     "execution_count": 29,
     "metadata": {},
     "output_type": "execute_result"
    },
    {
     "data": {
      "image/png": "[encoded data removed]",
      "text/plain": [
       "<Figure size 720x360 with 1 Axes>"
      ]
     },
     "metadata": {
      "needs_background": "light"
     },
     "output_type": "display_data"
    }
   ],
   "source": [
    "#Subscribed by Housing\n",
    "\n",
    "plt.figure(figsize = (10,5))\n",
    "plt.title('Subscribed by Housing')\n",
    "sns.countplot(x = \"housing\", data = data, hue = \"subscribed\")"
   ]
  },
  {
   "cell_type": "markdown",
   "id": "76d0bf66",
   "metadata": {},
   "source": [
    "Customers without housing loan subscribed more compared to those with housing loan"
   ]
  },
  {
   "cell_type": "code",
   "execution_count": 30,
   "id": "338b36a8",
   "metadata": {},
   "outputs": [
    {
     "data": {
      "text/plain": [
       "<AxesSubplot:title={'center':'Subscribed by Contact'}, xlabel='contact', ylabel='count'>"
      ]
     },
     "execution_count": 30,
     "metadata": {},
     "output_type": "execute_result"
    },
    {
     "data": {
      "image/png": "[encoded data removed]",
      "text/plain": [
       "<Figure size 720x360 with 1 Axes>"
      ]
     },
     "metadata": {
      "needs_background": "light"
     },
     "output_type": "display_data"
    }
   ],
   "source": [
    "#Subscribed by Contact\n",
    "\n",
    "plt.figure(figsize = (10,5))\n",
    "plt.title('Subscribed by Contact')\n",
    "sns.countplot(x = \"contact\", data = data, hue = \"subscribed\")"
   ]
  },
  {
   "cell_type": "markdown",
   "id": "55b39e60",
   "metadata": {},
   "source": [
    "Customers with cellular contact subscribed more compared to those with other contact means"
   ]
  },
  {
   "cell_type": "code",
   "execution_count": 31,
   "id": "deb29a96",
   "metadata": {
    "scrolled": true
   },
   "outputs": [
    {
     "data": {
      "text/plain": [
       "<BarContainer object of 4521 artists>"
      ]
     },
     "execution_count": 31,
     "metadata": {},
     "output_type": "execute_result"
    },
    {
     "data": {
      "image/png": "[encoded data removed]",
      "text/plain": [
       "<Figure size 720x360 with 1 Axes>"
      ]
     },
     "metadata": {
      "needs_background": "light"
     },
     "output_type": "display_data"
    }
   ],
   "source": [
    "#Balance by Job\n",
    "\n",
    "plt.figure(figsize = (10,5))\n",
    "plt.title('Balance by Job')\n",
    "plt.barh(width = \"balance\", y = \"job\", data = data)"
   ]
  },
  {
   "cell_type": "markdown",
   "id": "00d58e02",
   "metadata": {},
   "source": [
    "From the balance, it shows that 'retired' customers had more balance, but logistically is this true? Let's see next chart for confirmation."
   ]
  },
  {
   "cell_type": "code",
   "execution_count": 32,
   "id": "cca511a4",
   "metadata": {
    "scrolled": false
   },
   "outputs": [
    {
     "data": {
      "text/plain": [
       "<AxesSubplot:title={'center':'Balance by Job'}, xlabel='job', ylabel='balance'>"
      ]
     },
     "execution_count": 32,
     "metadata": {},
     "output_type": "execute_result"
    },
    {
     "data": {
      "image/png": "[encoded data removed]",
      "text/plain": [
       "<Figure size 1080x360 with 1 Axes>"
      ]
     },
     "metadata": {
      "needs_background": "light"
     },
     "output_type": "display_data"
    }
   ],
   "source": [
    "#Balance by Job\n",
    "\n",
    "plt.figure(figsize = (15,5))\n",
    "plt.title('Balance by Job')\n",
    "sns.boxplot(x = \"job\", y = \"balance\", data = data)"
   ]
  },
  {
   "cell_type": "markdown",
   "id": "3f92b95d",
   "metadata": {},
   "source": [
    "With reference to the previous chart, we can see why 'retired' customer had highest balance, there's an outlier of over 70000, nevertheless, the size of box still shows that they have higher balance"
   ]
  },
  {
   "cell_type": "code",
   "execution_count": 33,
   "id": "91022e80",
   "metadata": {},
   "outputs": [
    {
     "data": {
      "text/plain": [
       "<AxesSubplot:title={'center':'Balance by Education'}, xlabel='education', ylabel='balance'>"
      ]
     },
     "execution_count": 33,
     "metadata": {},
     "output_type": "execute_result"
    },
    {
     "data": {
      "image/png": "[encoded data removed]",
      "text/plain": [
       "<Figure size 720x360 with 1 Axes>"
      ]
     },
     "metadata": {
      "needs_background": "light"
     },
     "output_type": "display_data"
    }
   ],
   "source": [
    "#Balance by Education\n",
    "\n",
    "plt.figure(figsize = (10,5))\n",
    "plt.title('Balance by Education')\n",
    "sns.barplot(x = \"education\", y = \"balance\", data = data, ci =None)"
   ]
  },
  {
   "cell_type": "markdown",
   "id": "c6eef7dd",
   "metadata": {},
   "source": [
    "From the balance, it shows that customers with tertiary education level had more balance compared to others\n",
    "\n"
   ]
  },
  {
   "cell_type": "markdown",
   "id": "9429b113",
   "metadata": {},
   "source": [
    "## Multivariate Analysis\n",
    "\n",
    "Create charts where you plot more than two variables at a time on a chart. \n",
    "\n",
    "You can use visuals like bar charts, scatter plots and so on.\n",
    "\n",
    "> Explore how to use the `hue` parameter in `seaborn` chart types\n",
    "\n",
    "> **Make sure to put an explanation or interpretation of the chart in a markdown cell after the chart**"
   ]
  },
  {
   "cell_type": "code",
   "execution_count": 34,
   "id": "47bfdea6",
   "metadata": {
    "scrolled": true
   },
   "outputs": [
    {
     "data": {
      "text/plain": [
       "Text(0.5, 1.0, 'Subscribed by Age per Education Level')"
      ]
     },
     "execution_count": 34,
     "metadata": {},
     "output_type": "execute_result"
    },
    {
     "data": {
      "image/png": "[encoded data removed]",
      "text/plain": [
       "<Figure size 720x360 with 1 Axes>"
      ]
     },
     "metadata": {
      "needs_background": "light"
     },
     "output_type": "display_data"
    }
   ],
   "source": [
    "# Subscribed by Age per Education\n",
    "plt.figure(figsize=(10,5))\n",
    "sns.boxplot(x=\"education\", y=\"age\", hue=\"subscribed\", data=data)\n",
    "plt.title('Subscribed by Age per Education Level')"
   ]
  },
  {
   "cell_type": "markdown",
   "id": "621c26f4",
   "metadata": {},
   "source": [
    "Primary education level customers with age ranging from 20-87 years subscribed to the term deposit package, which indicated highest, without outliers"
   ]
  },
  {
   "cell_type": "code",
   "execution_count": 35,
   "id": "73471cce",
   "metadata": {},
   "outputs": [
    {
     "data": {
      "text/plain": [
       "[Text(0.5, 1.0, 'Subscribed by Balance per Education Level')]"
      ]
     },
     "execution_count": 35,
     "metadata": {},
     "output_type": "execute_result"
    },
    {
     "data": {
      "image/png": "[encoded data removed]",
      "text/plain": [
       "<Figure size 720x360 with 1 Axes>"
      ]
     },
     "metadata": {
      "needs_background": "light"
     },
     "output_type": "display_data"
    }
   ],
   "source": [
    "# Subscribed by Balance per Education using a subset of the data(1000)\n",
    "plt.figure(figsize=(10,5))\n",
    "sns.set_theme(style=\"whitegrid\", palette=\"muted\")\n",
    "ax = sns.swarmplot(data=data.sample(1000), x=\"education\", y=\"balance\", hue=\"subscribed\")\n",
    "ax.set(ylabel=\"balance\")\n",
    "ax.set(title=\"Subscribed by Balance per Education Level\")"
   ]
  },
  {
   "cell_type": "markdown",
   "id": "f98ef419",
   "metadata": {},
   "source": [
    "Most of the customers that subscribed had balance ranging from 0-5000 and are secondary education level, which had the highest subscribers generally."
   ]
  },
  {
   "cell_type": "code",
   "execution_count": 36,
   "id": "3be8d0a6",
   "metadata": {},
   "outputs": [
    {
     "data": {
      "text/plain": [
       "<seaborn.axisgrid.PairGrid at 0x29b44c60610>"
      ]
     },
     "execution_count": 36,
     "metadata": {},
     "output_type": "execute_result"
    },
    {
     "data": {
      "image/png": "[encoded data removed]",
      "text/plain": [
       "<Figure size 540x540 with 12 Axes>"
      ]
     },
     "metadata": {},
     "output_type": "display_data"
    }
   ],
   "source": [
    "# Relationship between the numerical data\n",
    "sns.pairplot(data)"
   ]
  },
  {
   "cell_type": "code",
   "execution_count": 37,
   "id": "9231d161",
   "metadata": {},
   "outputs": [
    {
     "data": {
      "text/plain": [
       "<AxesSubplot:>"
      ]
     },
     "execution_count": 37,
     "metadata": {},
     "output_type": "execute_result"
    },
    {
     "data": {
      "image/png": "[encoded data removed]",
      "text/plain": [
       "<Figure size 432x288 with 2 Axes>"
      ]
     },
     "metadata": {},
     "output_type": "display_data"
    }
   ],
   "source": [
    "sns.heatmap(data.corr(),annot=True)"
   ]
  },
  {
   "cell_type": "markdown",
   "id": "46f1a57f",
   "metadata": {},
   "source": [
    "There is no relationship between the dataset. All values are independent"
   ]
  },
  {
   "cell_type": "markdown",
   "id": "d84168b0",
   "metadata": {},
   "source": [
    "# Summary of Findings\n",
    "\n",
    "1. About 88.5% of the customers didn't subscribe to the term deposit, only 11.5% Subscribed.\n",
    "2. In the 11.5%, Age '38-48', Job 'management', Martial status 'married', Housing 'no loan', Loan 'no loan', Education 'secondary', Balance '>15k', Contact 'cellular' were the categories of Customers that subscribed.\n",
    "3. There's no relationship between the numeric values"
   ]
  },
  {
   "cell_type": "code",
   "execution_count": null,
   "id": "0cd1fdaa",
   "metadata": {},
   "outputs": [],
   "source": []
  },
  {
   "cell_type": "markdown",
   "id": "60ffb708",
   "metadata": {},
   "source": [
    "# Modelling\n",
    "\n",
    "In this section, models will be trained and evaluated \n"
   ]
  },
  {
   "cell_type": "markdown",
   "id": "d9864b8b",
   "metadata": {},
   "source": [
    "### Select Features"
   ]
  },
  {
   "cell_type": "markdown",
   "id": "4e1bc902",
   "metadata": {},
   "source": [
    "#### One-Hot Encoding\n",
    "\n",
    "With one-hot encoding, we convert categorical data into numerical.\n",
    "\n",
    "Each value of a column is pivoted into a column of it's own. The values in this new column will be either 1 or 0 to show whether that value exists or not.\n"
   ]
  },
  {
   "cell_type": "markdown",
   "id": "44550864",
   "metadata": {},
   "source": [
    "First, replace some values to something you can more easily understand\n",
    "\n",
    "* replace no with 0\n",
    "* replace yes with 1"
   ]
  },
  {
   "cell_type": "code",
   "execution_count": 38,
   "id": "fd110f6e",
   "metadata": {},
   "outputs": [],
   "source": [
    "#replacing values in the target column(subscribed)\n",
    "\n",
    "data['subscribed'].replace('no',0, inplace=True)\n",
    "data['subscribed'].replace('yes',1, inplace=True)"
   ]
  },
  {
   "cell_type": "code",
   "execution_count": 39,
   "id": "02c735fa",
   "metadata": {},
   "outputs": [],
   "source": [
    "#First, create a list of the categorical data(c)\n",
    "\n",
    "c_data = ['job', 'marital', 'education', 'default', 'housing', 'loan', 'contact', 'day', 'month', 'duration',\n",
    "          'pdays', 'previous', 'poutcome']\n"
   ]
  },
  {
   "cell_type": "code",
   "execution_count": 40,
   "id": "7ed94dbe",
   "metadata": {},
   "outputs": [
    {
     "data": {
      "text/html": [
       "<div>\n",
       "<style scoped>\n",
       "    .dataframe tbody tr th:only-of-type {\n",
       "        vertical-align: middle;\n",
       "    }\n",
       "\n",
       "    .dataframe tbody tr th {\n",
       "        vertical-align: top;\n",
       "    }\n",
       "\n",
       "    .dataframe thead th {\n",
       "        text-align: right;\n",
       "    }\n",
       "</style>\n",
       "<table border=\"1\" class=\"dataframe\">\n",
       "  <thead>\n",
       "    <tr style=\"text-align: right;\">\n",
       "      <th></th>\n",
       "      <th>job_admin.</th>\n",
       "      <th>job_blue-collar</th>\n",
       "      <th>job_entrepreneur</th>\n",
       "      <th>job_housemaid</th>\n",
       "      <th>job_management</th>\n",
       "      <th>job_retired</th>\n",
       "      <th>job_self-employed</th>\n",
       "      <th>job_services</th>\n",
       "      <th>job_student</th>\n",
       "      <th>job_technician</th>\n",
       "      <th>...</th>\n",
       "      <th>previous_4</th>\n",
       "      <th>previous_5</th>\n",
       "      <th>previous_6</th>\n",
       "      <th>previous_7</th>\n",
       "      <th>previous_8</th>\n",
       "      <th>previous_9</th>\n",
       "      <th>poutcome_failure</th>\n",
       "      <th>poutcome_other</th>\n",
       "      <th>poutcome_success</th>\n",
       "      <th>poutcome_unknown</th>\n",
       "    </tr>\n",
       "  </thead>\n",
       "  <tbody>\n",
       "    <tr>\n",
       "      <th>1</th>\n",
       "      <td>0</td>\n",
       "      <td>0</td>\n",
       "      <td>0</td>\n",
       "      <td>0</td>\n",
       "      <td>0</td>\n",
       "      <td>0</td>\n",
       "      <td>0</td>\n",
       "      <td>0</td>\n",
       "      <td>0</td>\n",
       "      <td>0</td>\n",
       "      <td>...</td>\n",
       "      <td>0</td>\n",
       "      <td>0</td>\n",
       "      <td>0</td>\n",
       "      <td>0</td>\n",
       "      <td>0</td>\n",
       "      <td>0</td>\n",
       "      <td>0</td>\n",
       "      <td>0</td>\n",
       "      <td>0</td>\n",
       "      <td>1</td>\n",
       "    </tr>\n",
       "    <tr>\n",
       "      <th>2</th>\n",
       "      <td>0</td>\n",
       "      <td>0</td>\n",
       "      <td>0</td>\n",
       "      <td>0</td>\n",
       "      <td>0</td>\n",
       "      <td>0</td>\n",
       "      <td>0</td>\n",
       "      <td>1</td>\n",
       "      <td>0</td>\n",
       "      <td>0</td>\n",
       "      <td>...</td>\n",
       "      <td>1</td>\n",
       "      <td>0</td>\n",
       "      <td>0</td>\n",
       "      <td>0</td>\n",
       "      <td>0</td>\n",
       "      <td>0</td>\n",
       "      <td>1</td>\n",
       "      <td>0</td>\n",
       "      <td>0</td>\n",
       "      <td>0</td>\n",
       "    </tr>\n",
       "  </tbody>\n",
       "</table>\n",
       "<p>2 rows × 1266 columns</p>\n",
       "</div>"
      ],
      "text/plain": [
       "   job_admin.  job_blue-collar  job_entrepreneur  job_housemaid  \\\n",
       "1           0                0                 0              0   \n",
       "2           0                0                 0              0   \n",
       "\n",
       "   job_management  job_retired  job_self-employed  job_services  job_student  \\\n",
       "1               0            0                  0             0            0   \n",
       "2               0            0                  0             1            0   \n",
       "\n",
       "   job_technician  ...  previous_4  previous_5  previous_6  previous_7  \\\n",
       "1               0  ...           0           0           0           0   \n",
       "2               0  ...           1           0           0           0   \n",
       "\n",
       "   previous_8  previous_9  poutcome_failure  poutcome_other  poutcome_success  \\\n",
       "1           0           0                 0               0                 0   \n",
       "2           0           0                 1               0                 0   \n",
       "\n",
       "   poutcome_unknown  \n",
       "1                 1  \n",
       "2                 0  \n",
       "\n",
       "[2 rows x 1266 columns]"
      ]
     },
     "execution_count": 40,
     "metadata": {},
     "output_type": "execute_result"
    }
   ],
   "source": [
    "# Convert all categorical column to numeric using pd.get_dummies()\n",
    "\n",
    "c_data_dummies = pd.get_dummies(data[c_data])\n",
    "c_data_dummies.head(2)"
   ]
  },
  {
   "cell_type": "code",
   "execution_count": 41,
   "id": "8c8d44f5",
   "metadata": {},
   "outputs": [
    {
     "name": "stdout",
     "output_type": "stream",
     "text": [
      "(4521, 1285)\n"
     ]
    },
    {
     "data": {
      "text/html": [
       "<div>\n",
       "<style scoped>\n",
       "    .dataframe tbody tr th:only-of-type {\n",
       "        vertical-align: middle;\n",
       "    }\n",
       "\n",
       "    .dataframe tbody tr th {\n",
       "        vertical-align: top;\n",
       "    }\n",
       "\n",
       "    .dataframe thead th {\n",
       "        text-align: right;\n",
       "    }\n",
       "</style>\n",
       "<table border=\"1\" class=\"dataframe\">\n",
       "  <thead>\n",
       "    <tr style=\"text-align: right;\">\n",
       "      <th></th>\n",
       "      <th>age</th>\n",
       "      <th>job</th>\n",
       "      <th>marital</th>\n",
       "      <th>education</th>\n",
       "      <th>default</th>\n",
       "      <th>balance</th>\n",
       "      <th>housing</th>\n",
       "      <th>loan</th>\n",
       "      <th>contact</th>\n",
       "      <th>day</th>\n",
       "      <th>...</th>\n",
       "      <th>previous_4</th>\n",
       "      <th>previous_5</th>\n",
       "      <th>previous_6</th>\n",
       "      <th>previous_7</th>\n",
       "      <th>previous_8</th>\n",
       "      <th>previous_9</th>\n",
       "      <th>poutcome_failure</th>\n",
       "      <th>poutcome_other</th>\n",
       "      <th>poutcome_success</th>\n",
       "      <th>poutcome_unknown</th>\n",
       "    </tr>\n",
       "  </thead>\n",
       "  <tbody>\n",
       "    <tr>\n",
       "      <th>1</th>\n",
       "      <td>30</td>\n",
       "      <td>unemployed</td>\n",
       "      <td>married</td>\n",
       "      <td>primary</td>\n",
       "      <td>no</td>\n",
       "      <td>1787</td>\n",
       "      <td>no</td>\n",
       "      <td>no</td>\n",
       "      <td>cellular</td>\n",
       "      <td>19</td>\n",
       "      <td>...</td>\n",
       "      <td>0</td>\n",
       "      <td>0</td>\n",
       "      <td>0</td>\n",
       "      <td>0</td>\n",
       "      <td>0</td>\n",
       "      <td>0</td>\n",
       "      <td>0</td>\n",
       "      <td>0</td>\n",
       "      <td>0</td>\n",
       "      <td>1</td>\n",
       "    </tr>\n",
       "    <tr>\n",
       "      <th>2</th>\n",
       "      <td>33</td>\n",
       "      <td>services</td>\n",
       "      <td>married</td>\n",
       "      <td>secondary</td>\n",
       "      <td>no</td>\n",
       "      <td>4789</td>\n",
       "      <td>yes</td>\n",
       "      <td>yes</td>\n",
       "      <td>cellular</td>\n",
       "      <td>11</td>\n",
       "      <td>...</td>\n",
       "      <td>1</td>\n",
       "      <td>0</td>\n",
       "      <td>0</td>\n",
       "      <td>0</td>\n",
       "      <td>0</td>\n",
       "      <td>0</td>\n",
       "      <td>1</td>\n",
       "      <td>0</td>\n",
       "      <td>0</td>\n",
       "      <td>0</td>\n",
       "    </tr>\n",
       "  </tbody>\n",
       "</table>\n",
       "<p>2 rows × 1285 columns</p>\n",
       "</div>"
      ],
      "text/plain": [
       "   age         job  marital  education default  balance housing loan  \\\n",
       "1   30  unemployed  married    primary      no     1787      no   no   \n",
       "2   33    services  married  secondary      no     4789     yes  yes   \n",
       "\n",
       "    contact day  ... previous_4 previous_5  previous_6 previous_7 previous_8  \\\n",
       "1  cellular  19  ...          0          0           0          0          0   \n",
       "2  cellular  11  ...          1          0           0          0          0   \n",
       "\n",
       "  previous_9  poutcome_failure poutcome_other poutcome_success  \\\n",
       "1          0                 0              0                0   \n",
       "2          0                 1              0                0   \n",
       "\n",
       "   poutcome_unknown  \n",
       "1                 1  \n",
       "2                 0  \n",
       "\n",
       "[2 rows x 1285 columns]"
      ]
     },
     "execution_count": 41,
     "metadata": {},
     "output_type": "execute_result"
    }
   ],
   "source": [
    "#join the encoded variables back to the main dataframe using pd.concat()\n",
    "#pass both data and c_data_dummies as a list of their names\n",
    "\n",
    "data = pd.concat([data, c_data_dummies], axis=1)\n",
    "\n",
    "#view of what is done\n",
    "print(data.shape)\n",
    "data.head(2)"
   ]
  },
  {
   "cell_type": "code",
   "execution_count": 42,
   "id": "ad90d562",
   "metadata": {},
   "outputs": [],
   "source": [
    "#remove the initial categorical columns now that we have encoded them\n",
    "#use the list called c_data do delete all the initially selected columns at once\n",
    "\n",
    "data = data.drop(c_data, axis = 1)"
   ]
  },
  {
   "cell_type": "code",
   "execution_count": 43,
   "id": "f76263b0",
   "metadata": {},
   "outputs": [],
   "source": [
    "data = data.drop(['age_group', 'balance_group'], axis = 1)"
   ]
  },
  {
   "cell_type": "code",
   "execution_count": 44,
   "id": "6573f297",
   "metadata": {},
   "outputs": [
    {
     "name": "stdout",
     "output_type": "stream",
     "text": [
      "(4521, 1270)\n"
     ]
    },
    {
     "data": {
      "text/html": [
       "<div>\n",
       "<style scoped>\n",
       "    .dataframe tbody tr th:only-of-type {\n",
       "        vertical-align: middle;\n",
       "    }\n",
       "\n",
       "    .dataframe tbody tr th {\n",
       "        vertical-align: top;\n",
       "    }\n",
       "\n",
       "    .dataframe thead th {\n",
       "        text-align: right;\n",
       "    }\n",
       "</style>\n",
       "<table border=\"1\" class=\"dataframe\">\n",
       "  <thead>\n",
       "    <tr style=\"text-align: right;\">\n",
       "      <th></th>\n",
       "      <th>age</th>\n",
       "      <th>balance</th>\n",
       "      <th>campaign</th>\n",
       "      <th>subscribed</th>\n",
       "      <th>job_admin.</th>\n",
       "      <th>job_blue-collar</th>\n",
       "      <th>job_entrepreneur</th>\n",
       "      <th>job_housemaid</th>\n",
       "      <th>job_management</th>\n",
       "      <th>job_retired</th>\n",
       "      <th>...</th>\n",
       "      <th>previous_4</th>\n",
       "      <th>previous_5</th>\n",
       "      <th>previous_6</th>\n",
       "      <th>previous_7</th>\n",
       "      <th>previous_8</th>\n",
       "      <th>previous_9</th>\n",
       "      <th>poutcome_failure</th>\n",
       "      <th>poutcome_other</th>\n",
       "      <th>poutcome_success</th>\n",
       "      <th>poutcome_unknown</th>\n",
       "    </tr>\n",
       "  </thead>\n",
       "  <tbody>\n",
       "    <tr>\n",
       "      <th>1</th>\n",
       "      <td>30</td>\n",
       "      <td>1787</td>\n",
       "      <td>1</td>\n",
       "      <td>0</td>\n",
       "      <td>0</td>\n",
       "      <td>0</td>\n",
       "      <td>0</td>\n",
       "      <td>0</td>\n",
       "      <td>0</td>\n",
       "      <td>0</td>\n",
       "      <td>...</td>\n",
       "      <td>0</td>\n",
       "      <td>0</td>\n",
       "      <td>0</td>\n",
       "      <td>0</td>\n",
       "      <td>0</td>\n",
       "      <td>0</td>\n",
       "      <td>0</td>\n",
       "      <td>0</td>\n",
       "      <td>0</td>\n",
       "      <td>1</td>\n",
       "    </tr>\n",
       "    <tr>\n",
       "      <th>2</th>\n",
       "      <td>33</td>\n",
       "      <td>4789</td>\n",
       "      <td>1</td>\n",
       "      <td>0</td>\n",
       "      <td>0</td>\n",
       "      <td>0</td>\n",
       "      <td>0</td>\n",
       "      <td>0</td>\n",
       "      <td>0</td>\n",
       "      <td>0</td>\n",
       "      <td>...</td>\n",
       "      <td>1</td>\n",
       "      <td>0</td>\n",
       "      <td>0</td>\n",
       "      <td>0</td>\n",
       "      <td>0</td>\n",
       "      <td>0</td>\n",
       "      <td>1</td>\n",
       "      <td>0</td>\n",
       "      <td>0</td>\n",
       "      <td>0</td>\n",
       "    </tr>\n",
       "  </tbody>\n",
       "</table>\n",
       "<p>2 rows × 1270 columns</p>\n",
       "</div>"
      ],
      "text/plain": [
       "   age  balance  campaign  subscribed  job_admin.  job_blue-collar  \\\n",
       "1   30     1787         1           0           0                0   \n",
       "2   33     4789         1           0           0                0   \n",
       "\n",
       "   job_entrepreneur  job_housemaid  job_management  job_retired  ...  \\\n",
       "1                 0              0               0            0  ...   \n",
       "2                 0              0               0            0  ...   \n",
       "\n",
       "   previous_4  previous_5  previous_6  previous_7  previous_8  previous_9  \\\n",
       "1           0           0           0           0           0           0   \n",
       "2           1           0           0           0           0           0   \n",
       "\n",
       "   poutcome_failure  poutcome_other  poutcome_success  poutcome_unknown  \n",
       "1                 0               0                 0                 1  \n",
       "2                 1               0                 0                 0  \n",
       "\n",
       "[2 rows x 1270 columns]"
      ]
     },
     "execution_count": 44,
     "metadata": {},
     "output_type": "execute_result"
    }
   ],
   "source": [
    "print(data.shape)\n",
    "data.head(2)"
   ]
  },
  {
   "cell_type": "markdown",
   "id": "d6c97f67",
   "metadata": {},
   "source": [
    "### Select Target"
   ]
  },
  {
   "cell_type": "code",
   "execution_count": 45,
   "id": "91838b0c",
   "metadata": {},
   "outputs": [],
   "source": [
    "#target:\n",
    "y = data['subscribed']\n",
    "X = data.drop('subscribed', axis=1)"
   ]
  },
  {
   "cell_type": "code",
   "execution_count": 46,
   "id": "75fa1ffd",
   "metadata": {},
   "outputs": [
    {
     "data": {
      "text/html": [
       "<div>\n",
       "<style scoped>\n",
       "    .dataframe tbody tr th:only-of-type {\n",
       "        vertical-align: middle;\n",
       "    }\n",
       "\n",
       "    .dataframe tbody tr th {\n",
       "        vertical-align: top;\n",
       "    }\n",
       "\n",
       "    .dataframe thead th {\n",
       "        text-align: right;\n",
       "    }\n",
       "</style>\n",
       "<table border=\"1\" class=\"dataframe\">\n",
       "  <thead>\n",
       "    <tr style=\"text-align: right;\">\n",
       "      <th></th>\n",
       "      <th>age</th>\n",
       "      <th>balance</th>\n",
       "      <th>campaign</th>\n",
       "      <th>job_admin.</th>\n",
       "      <th>job_blue-collar</th>\n",
       "      <th>job_entrepreneur</th>\n",
       "      <th>job_housemaid</th>\n",
       "      <th>job_management</th>\n",
       "      <th>job_retired</th>\n",
       "      <th>job_self-employed</th>\n",
       "      <th>...</th>\n",
       "      <th>previous_4</th>\n",
       "      <th>previous_5</th>\n",
       "      <th>previous_6</th>\n",
       "      <th>previous_7</th>\n",
       "      <th>previous_8</th>\n",
       "      <th>previous_9</th>\n",
       "      <th>poutcome_failure</th>\n",
       "      <th>poutcome_other</th>\n",
       "      <th>poutcome_success</th>\n",
       "      <th>poutcome_unknown</th>\n",
       "    </tr>\n",
       "  </thead>\n",
       "  <tbody>\n",
       "    <tr>\n",
       "      <th>1</th>\n",
       "      <td>30</td>\n",
       "      <td>1787</td>\n",
       "      <td>1</td>\n",
       "      <td>0</td>\n",
       "      <td>0</td>\n",
       "      <td>0</td>\n",
       "      <td>0</td>\n",
       "      <td>0</td>\n",
       "      <td>0</td>\n",
       "      <td>0</td>\n",
       "      <td>...</td>\n",
       "      <td>0</td>\n",
       "      <td>0</td>\n",
       "      <td>0</td>\n",
       "      <td>0</td>\n",
       "      <td>0</td>\n",
       "      <td>0</td>\n",
       "      <td>0</td>\n",
       "      <td>0</td>\n",
       "      <td>0</td>\n",
       "      <td>1</td>\n",
       "    </tr>\n",
       "    <tr>\n",
       "      <th>2</th>\n",
       "      <td>33</td>\n",
       "      <td>4789</td>\n",
       "      <td>1</td>\n",
       "      <td>0</td>\n",
       "      <td>0</td>\n",
       "      <td>0</td>\n",
       "      <td>0</td>\n",
       "      <td>0</td>\n",
       "      <td>0</td>\n",
       "      <td>0</td>\n",
       "      <td>...</td>\n",
       "      <td>1</td>\n",
       "      <td>0</td>\n",
       "      <td>0</td>\n",
       "      <td>0</td>\n",
       "      <td>0</td>\n",
       "      <td>0</td>\n",
       "      <td>1</td>\n",
       "      <td>0</td>\n",
       "      <td>0</td>\n",
       "      <td>0</td>\n",
       "    </tr>\n",
       "  </tbody>\n",
       "</table>\n",
       "<p>2 rows × 1269 columns</p>\n",
       "</div>"
      ],
      "text/plain": [
       "   age  balance  campaign  job_admin.  job_blue-collar  job_entrepreneur  \\\n",
       "1   30     1787         1           0                0                 0   \n",
       "2   33     4789         1           0                0                 0   \n",
       "\n",
       "   job_housemaid  job_management  job_retired  job_self-employed  ...  \\\n",
       "1              0               0            0                  0  ...   \n",
       "2              0               0            0                  0  ...   \n",
       "\n",
       "   previous_4  previous_5  previous_6  previous_7  previous_8  previous_9  \\\n",
       "1           0           0           0           0           0           0   \n",
       "2           1           0           0           0           0           0   \n",
       "\n",
       "   poutcome_failure  poutcome_other  poutcome_success  poutcome_unknown  \n",
       "1                 0               0                 0                 1  \n",
       "2                 1               0                 0                 0  \n",
       "\n",
       "[2 rows x 1269 columns]"
      ]
     },
     "execution_count": 46,
     "metadata": {},
     "output_type": "execute_result"
    }
   ],
   "source": [
    "X.head(2) "
   ]
  },
  {
   "cell_type": "code",
   "execution_count": 47,
   "id": "6352f6e7",
   "metadata": {},
   "outputs": [
    {
     "data": {
      "text/plain": [
       "1    0\n",
       "2    0\n",
       "Name: subscribed, dtype: int64"
      ]
     },
     "execution_count": 47,
     "metadata": {},
     "output_type": "execute_result"
    }
   ],
   "source": [
    "y.head(2)"
   ]
  },
  {
   "cell_type": "markdown",
   "id": "761d9bda",
   "metadata": {},
   "source": [
    "#### Scaling data\n",
    "scaling of the data makes it easy for a model to learn and understand the problem, it also leads to more accurate results."
   ]
  },
  {
   "cell_type": "code",
   "execution_count": 48,
   "id": "0b635f53",
   "metadata": {},
   "outputs": [],
   "source": [
    "# Import Standard Scaler\n",
    "\n",
    "from sklearn.preprocessing import StandardScaler"
   ]
  },
  {
   "cell_type": "code",
   "execution_count": 49,
   "id": "fe7e4f16",
   "metadata": {},
   "outputs": [
    {
     "ename": "NameError",
     "evalue": "name 'X_train' is not defined",
     "output_type": "error",
     "traceback": [
      "\u001b[1;31m---------------------------------------------------------------------------\u001b[0m",
      "\u001b[1;31mNameError\u001b[0m                                 Traceback (most recent call last)",
      "Input \u001b[1;32mIn [49]\u001b[0m, in \u001b[0;36m<cell line: 3>\u001b[1;34m()\u001b[0m\n\u001b[0;32m      1\u001b[0m \u001b[38;5;66;03m#data scaling steps for train data set\u001b[39;00m\n\u001b[0;32m      2\u001b[0m scaler \u001b[38;5;241m=\u001b[39m StandardScaler()\n\u001b[1;32m----> 3\u001b[0m X_train_scaled  \u001b[38;5;241m=\u001b[39mscaler\u001b[38;5;241m.\u001b[39mfit_transform(\u001b[43mX_train\u001b[49m)\n\u001b[0;32m      4\u001b[0m X_train \u001b[38;5;241m=\u001b[39m pd\u001b[38;5;241m.\u001b[39mDataFrame(X_train_scaled, index\u001b[38;5;241m=\u001b[39mX_train\u001b[38;5;241m.\u001b[39mindex, columns \u001b[38;5;241m=\u001b[39m X_train\u001b[38;5;241m.\u001b[39mcolumns)\n",
      "\u001b[1;31mNameError\u001b[0m: name 'X_train' is not defined"
     ]
    }
   ],
   "source": [
    "#data scaling steps for train data set\n",
    "scaler = StandardScaler()\n",
    "X_train_scaled  =scaler.fit_transform(X_train)\n",
    "X_train = pd.DataFrame(X_train_scaled, index=X_train.index, columns = X_train.columns)"
   ]
  },
  {
   "cell_type": "code",
   "execution_count": null,
   "id": "64d52411",
   "metadata": {},
   "outputs": [],
   "source": [
    "#data scaling test for test dataset\n",
    "X_test_scaled = scaler.transform(X_test)\n",
    "X_test = pd.DataFrame(X_test_scaled, index=X_test.index, columns = X_test.columns)"
   ]
  },
  {
   "cell_type": "markdown",
   "id": "fbcbaca7",
   "metadata": {},
   "source": [
    "## Train Test Split"
   ]
  },
  {
   "cell_type": "code",
   "execution_count": null,
   "id": "6a343db6",
   "metadata": {},
   "outputs": [],
   "source": [
    "# use train_test_split to divide the dataset into train and test datasets with proportion of 70:30\n",
    "from sklearn.model_selection import train_test_split\n",
    "\n",
    "X_train, X_test, y_train, y_test = train_test_split(X,y, test_size=0.30)"
   ]
  },
  {
   "cell_type": "markdown",
   "id": "a3b2254c",
   "metadata": {},
   "source": [
    "## Import ML algorithms and initialize them"
   ]
  },
  {
   "cell_type": "code",
   "execution_count": null,
   "id": "47085836",
   "metadata": {},
   "outputs": [],
   "source": [
    "# Import ML Algorithms\n",
    "from sklearn.ensemble import RandomForestClassifier\n",
    "from sklearn.neighbors import KNeighborsClassifier\n",
    "from sklearn.linear_model import LogisticRegression\n",
    "from sklearn.tree import DecisionTreeClassifier\n",
    "\n",
    "# Import ML Metrics\n",
    "from sklearn.metrics import accuracy_score, classification_report, precision_score, recall_score\n",
    "from sklearn.metrics import confusion_matrix"
   ]
  },
  {
   "cell_type": "code",
   "execution_count": null,
   "id": "bcde3d8e",
   "metadata": {},
   "outputs": [],
   "source": [
    "# Initialize algorithms RandomForestClassifier\n",
    "\n",
    "RF = RandomForestClassifier()"
   ]
  },
  {
   "cell_type": "code",
   "execution_count": null,
   "id": "55c67e9a",
   "metadata": {},
   "outputs": [],
   "source": [
    "# Initialize algorithms KNeighborsClassifier\n",
    "\n",
    "KN = KNeighborsClassifier()"
   ]
  },
  {
   "cell_type": "code",
   "execution_count": null,
   "id": "4ddc1626",
   "metadata": {},
   "outputs": [],
   "source": [
    "# Initialize algorithms LogisticRegression\n",
    "LR = LogisticRegression()"
   ]
  },
  {
   "cell_type": "code",
   "execution_count": null,
   "id": "89eea071",
   "metadata": {},
   "outputs": [],
   "source": [
    "# Initialize algorithms DecisionTreeClassifier\n",
    "DT = DecisionTreeClassifier()"
   ]
  },
  {
   "cell_type": "code",
   "execution_count": null,
   "id": "a4fda253",
   "metadata": {},
   "outputs": [],
   "source": [
    "classifiers = [RF,KN,LR,DT]"
   ]
  },
  {
   "cell_type": "markdown",
   "id": "e3bf6a9a",
   "metadata": {},
   "source": [
    "## Train and Test the models"
   ]
  },
  {
   "cell_type": "code",
   "execution_count": null,
   "id": "070d7547",
   "metadata": {},
   "outputs": [],
   "source": [
    "# Create a function to train and evaluate model\n",
    "def trainer(model,X_train,y_train,X_test,y_test):\n",
    "    #fit the model\n",
    "    model.fit(X_train,y_train)\n",
    "    #predict on the fitted model\n",
    "    prediction = model.predict(X_test)\n",
    "    # print evaluation metrics\n",
    "    print('\\nFor {}, Accuracy score is {} \\n'.format(model.__class__.__name__,accuracy_score(prediction,y_test)))\n",
    "    print(classification_report(prediction,y_test)) "
   ]
  },
  {
   "cell_type": "code",
   "execution_count": null,
   "id": "58a31264",
   "metadata": {
    "scrolled": true
   },
   "outputs": [],
   "source": [
    "# loop through all models\n",
    "for model in classifiers:\n",
    "    trainer(model,X_train,y_train,X_test,y_test)"
   ]
  },
  {
   "cell_type": "code",
   "execution_count": null,
   "id": "66b407fd",
   "metadata": {},
   "outputs": [],
   "source": [
    "# Calculate the confusion matrix for RandomForestClassifier\n",
    "\n",
    "conf_matrix = confusion_matrix(y_true=y_test, y_pred=RF.predict(X_test))\n",
    "\n",
    "# Print the confusion matrix using Matplotlib\n",
    "\n",
    "fig, ax = plt.subplots(figsize=(7, 5))\n",
    "ax.matshow(conf_matrix, cmap=plt.cm.Oranges, alpha=0.3)\n",
    "for i in range(conf_matrix.shape[1]):\n",
    "    for j in range(conf_matrix.shape[0]):\n",
    "        ax.text(x=j, y=i,s=conf_matrix[i, j], va='center', ha='center', size='xx-large')\n",
    "        \n",
    "plt.xlabel('Predictions', fontsize=18)\n",
    "plt.ylabel('Actuals', fontsize=18)\n",
    "plt.title('RandomForest Confusion Matrix', fontsize=18)\n",
    "plt.show()\n",
    "\n",
    "print('Precision: %.3f' % precision_score(y_test, RF.predict(X_test)))\n",
    "print('Recall: %.3f' % recall_score(y_test, RF.predict(X_test)))"
   ]
  },
  {
   "cell_type": "code",
   "execution_count": null,
   "id": "0efe35bd",
   "metadata": {},
   "outputs": [],
   "source": [
    "# Calculate the confusion matrix for KNeighborClassifier\n",
    "\n",
    "conf_matrix = confusion_matrix(y_true=y_test, y_pred=KN.predict(X_test))\n",
    "\n",
    "# Print the confusion matrix using Matplotlib\n",
    "\n",
    "fig, ax = plt.subplots(figsize=(7, 5))\n",
    "ax.matshow(conf_matrix, cmap=plt.cm.Oranges, alpha=0.3)\n",
    "for i in range(conf_matrix.shape[1]):\n",
    "    for j in range(conf_matrix.shape[0]):\n",
    "        ax.text(x=j, y=i,s=conf_matrix[i, j], va='center', ha='center', size='xx-large')\n",
    "        \n",
    "plt.xlabel('Predictions', fontsize=18)\n",
    "plt.ylabel('Actuals', fontsize=18)\n",
    "plt.title(' KNeighbor Confusion Matrix', fontsize=18)\n",
    "plt.show()\n",
    "\n",
    "print('Precision: %.3f' % precision_score(y_test, KN.predict(X_test)))\n",
    "print('Recall: %.3f' % recall_score(y_test, KN.predict(X_test)))"
   ]
  },
  {
   "cell_type": "code",
   "execution_count": null,
   "id": "425416bf",
   "metadata": {},
   "outputs": [],
   "source": [
    "# Calculate the confusion matrix for LogisticsRegressionClassifier\n",
    "\n",
    "conf_matrix = confusion_matrix(y_true=y_test, y_pred=LR.predict(X_test))\n",
    "\n",
    "# Print the confusion matrix using Matplotlib\n",
    "\n",
    "fig, ax = plt.subplots(figsize=(7, 5))\n",
    "ax.matshow(conf_matrix, cmap=plt.cm.Oranges, alpha=0.3)\n",
    "for i in range(conf_matrix.shape[1]):\n",
    "    for j in range(conf_matrix.shape[0]):\n",
    "        ax.text(x=j, y=i,s=conf_matrix[i, j], va='center', ha='center', size='xx-large')\n",
    "        \n",
    "plt.xlabel('Predictions', fontsize=18)\n",
    "plt.ylabel('Actuals', fontsize=18)\n",
    "plt.title('LogisticsRegression Confusion Matrix', fontsize=18)\n",
    "plt.show()\n",
    "\n",
    "print('Precision: %.3f' % precision_score(y_test, LR.predict(X_test)))\n",
    "print('Recall: %.3f' % recall_score(y_test, LR.predict(X_test)))"
   ]
  },
  {
   "cell_type": "code",
   "execution_count": null,
   "id": "dc623d34",
   "metadata": {},
   "outputs": [],
   "source": [
    "# Calculate the confusion matrix for DecisionTreeClassifier\n",
    "\n",
    "conf_matrix = confusion_matrix(y_true=y_test, y_pred=DT.predict(X_test))\n",
    "\n",
    "# Print the confusion matrix using Matplotlib\n",
    "\n",
    "fig, ax = plt.subplots(figsize=(7, 5))\n",
    "ax.matshow(conf_matrix, cmap=plt.cm.Oranges, alpha=0.3)\n",
    "for i in range(conf_matrix.shape[1]):\n",
    "    for j in range(conf_matrix.shape[0]):\n",
    "        ax.text(x=j, y=i,s=conf_matrix[i, j], va='center', ha='center', size='xx-large')\n",
    "        \n",
    "plt.xlabel('Predictions', fontsize=18)\n",
    "plt.ylabel('Actuals', fontsize=18)\n",
    "plt.title('DecisionTree Confusion Matrix', fontsize=18)\n",
    "plt.show()\n",
    "\n",
    "print('Precision: %.3f' % precision_score(y_test, DT.predict(X_test)))\n",
    "print('Recall: %.3f' % recall_score(y_test, DT.predict(X_test)))"
   ]
  },
  {
   "cell_type": "code",
   "execution_count": null,
   "id": "e35cadc2",
   "metadata": {},
   "outputs": [],
   "source": []
  },
  {
   "cell_type": "markdown",
   "id": "de9ea4ae",
   "metadata": {},
   "source": [
    "## Interpret Results\n",
    "\n"
   ]
  },
  {
   "cell_type": "markdown",
   "id": "9f886f22",
   "metadata": {},
   "source": [
    "* RandomForest: This model had accuracy score of 87%, precision score of 71% and recall score of 12%\n",
    "* KNeighbor: This model had accuracy score of 86%, precision score of 14% and recall score of 1%\n",
    "* LogisticRegression: This model had accuracy score of 88%, precision score of 73% and recall score of 17%\n",
    "* DecisionTree: This model had accuracy score of 85%, precision score of 40% and recall score of 25%\n"
   ]
  },
  {
   "cell_type": "markdown",
   "id": "d93e1fa6",
   "metadata": {},
   "source": [
    "The purpose of this project is to predict whether a customer will subscribe for a term deposit or not. The best model that predicts with lesser error is to be chosen, subjecting them to the different evaluation metrics (accuracy, precision and recall). The confusion matrix displays the error value for each model in terms of False Positive (Where the model predicts a customer to subscribe to the term when they actually didn't subscribe - Precision) and False Negative (Where the model predicts a customer not to subscribe to the term when they actually did subscribe - Recall). "
   ]
  },
  {
   "cell_type": "markdown",
   "id": "bffecdf6",
   "metadata": {},
   "source": [
    "## Summary\n",
    "\n",
    "Model to deploy for production"
   ]
  },
  {
   "cell_type": "markdown",
   "id": "961f07a5",
   "metadata": {},
   "source": [
    "LogisticRegression: For this business problem, Precision score is of more relevancy than Recall score. Hence, LogisticRegression has higher precision score and accuracy score compared to other models stated above."
   ]
  },
  {
   "cell_type": "code",
   "execution_count": null,
   "id": "45b8c75f",
   "metadata": {},
   "outputs": [],
   "source": []
  }
 ],
 "metadata": {
  "kernelspec": {
   "display_name": "Python 3 (ipykernel)",
   "language": "python",
   "name": "python3"
  },
  "language_info": {
   "codemirror_mode": {
    "name": "ipython",
    "version": 3
   },
   "file_extension": ".py",
   "mimetype": "text/x-python",
   "name": "python",
   "nbconvert_exporter": "python",
   "pygments_lexer": "ipython3",
   "version": "3.9.12"
  }
 },
 "nbformat": 4,
 "nbformat_minor": 5
}
